{
 "cells": [
  {
   "cell_type": "code",
   "execution_count": null,
   "id": "49c87092",
   "metadata": {},
   "outputs": [],
   "source": [
    "# 50 assignments python - solution"
   ]
  },
  {
   "cell_type": "markdown",
   "id": "89081f36",
   "metadata": {},
   "source": [
    "# 1"
   ]
  },
  {
   "cell_type": "markdown",
   "id": "107e7e4f",
   "metadata": {},
   "source": [
    "Once upon a time in Pakistan, ahmad had ali apples, hammad had five apples, and Adam had six apples. They were all very happy and lived for a long time. End of story.\n",
    "\n",
    "\n",
    "\n",
    "Your task is to:\n",
    "\n",
    "- create the variables: ahmad, ali, and hammad;\n",
    "\n",
    "\n",
    "\n",
    "- assign values to the variables. The values must be equal to the numbers of fruit possessed by ahmad, ali  and hammad.\n",
    "\n",
    "\n",
    "\n",
    "- print the variables on one line by separate each of them with a comma;\n",
    "\n",
    "\n",
    "\n",
    "- now create a new variable named total_apples equal to addition of the total apples.\n",
    "\n",
    "\n",
    "\n",
    "- print the value stored in total_apples to the console;"
   ]
  },
  {
   "cell_type": "code",
   "execution_count": 3,
   "id": "ddc01aa8",
   "metadata": {},
   "outputs": [
    {
     "name": "stdout",
     "output_type": "stream",
     "text": [
      "3 5 6\n",
      "14\n"
     ]
    }
   ],
   "source": [
    "ahmad = 3\n",
    "ali = 5\n",
    "hammad = 6\n",
    "\n",
    "print(ahmad, ali, hammad)\n",
    "\n",
    "total_apples = ahmad + ali + hammad\n",
    "\n",
    "print(total_apples)"
   ]
  },
  {
   "cell_type": "markdown",
   "id": "69fff27f",
   "metadata": {},
   "source": [
    "# 2"
   ]
  },
  {
   "cell_type": "markdown",
   "id": "8c83732d",
   "metadata": {},
   "source": [
    "Miles and kilometers are units of length or distance.\n",
    "\n",
    "1 mile is equal to approximately 1.61 kilometers, complete the program in the editor so that it converts:\n",
    "\n",
    "\n",
    "\n",
    "miles to kilometers and\n",
    "\n",
    "kilometers to miles.\n",
    "\n",
    "\n",
    "\n",
    "You have to complete this program:"
   ]
  },
  {
   "cell_type": "code",
   "execution_count": null,
   "id": "85762ec3",
   "metadata": {},
   "outputs": [],
   "source": [
    "kilometers = 12.25\n",
    "miles = 7.38\n",
    " \n",
    "miles_to_kilometers = ###\n",
    "kilometers_to_miles = ###\n",
    " \n",
    "print(miles, \"miles is\", miles_to_kilometers, \"kilometers\")\n",
    "print(kilometers, \"kilometers is\", kilometers_to_miles, \"miles\")"
   ]
  },
  {
   "cell_type": "markdown",
   "id": "1c45b565",
   "metadata": {},
   "source": [
    "Do not change anything in the existing code. Write your code in the places indicated by ###.\n",
    "\n",
    "In upper code we have decided 12.25 km and 7.38 miles. You can do conversion completing the program. \n",
    "\n",
    "Run the program and see what happens"
   ]
  },
  {
   "cell_type": "markdown",
   "id": "cfbe95bc",
   "metadata": {},
   "source": [
    "# 3"
   ]
  },
  {
   "cell_type": "code",
   "execution_count": 4,
   "id": "f81cc69b",
   "metadata": {},
   "outputs": [
    {
     "name": "stdout",
     "output_type": "stream",
     "text": [
      "\n",
      "That's all, users!\n"
     ]
    }
   ],
   "source": [
    "#input a float value for variable a here\n",
    "# input a float value for variable b here\n",
    "#output the result of addition here\n",
    "#output the result of subtraction here\n",
    "#output the result of multiplication here\n",
    "#output the result of division here\n",
    "print(\"\\nThat's all, users!\")"
   ]
  },
  {
   "cell_type": "markdown",
   "id": "b261037f",
   "metadata": {},
   "source": [
    "Your task is to complete the code in order to evaluate the results of four basic arithmetic operations.\n",
    "\n",
    "The results have to be printed to the console. Write your code in place of #  according to the given instructions."
   ]
  },
  {
   "cell_type": "code",
   "execution_count": 5,
   "id": "162055db",
   "metadata": {},
   "outputs": [
    {
     "name": "stdout",
     "output_type": "stream",
     "text": [
      "Enter a number2\n",
      "Enter another number2\n",
      "4.0\n",
      "0.0\n",
      "4.0\n",
      "1.0\n",
      "\n",
      "That's all, users!\n"
     ]
    }
   ],
   "source": [
    "a = float(input('Enter a number'))\n",
    "b = float(input('Enter another number'))\n",
    "print(a+b)\n",
    "print(a-b)\n",
    "print(a*b)\n",
    "print(a/b)\n",
    "print(\"\\nThat's all, users!\")"
   ]
  },
  {
   "cell_type": "markdown",
   "id": "b57869fe",
   "metadata": {},
   "source": [
    "# 4"
   ]
  },
  {
   "cell_type": "markdown",
   "id": "e1932e7d",
   "metadata": {},
   "source": [
    "### Temperature converter\n",
    "\n",
    "- Write a Python program that converts temperature from Celsius to Fahrenheit. Your program should:\n",
    "\n",
    "\n",
    "- Prompt the user to input a temperature in Celsius.\n",
    "\n",
    "\n",
    "- Calculate the equivalent temperature in Fahrenheit using the formula: 𝐹=9/5 × 𝐶 + 32.\n",
    "\n",
    "\n",
    "- Print the result.\n",
    "\n",
    "\n",
    "\n",
    "Don't hesitate to use as many brackets in calculation as you want."
   ]
  },
  {
   "cell_type": "code",
   "execution_count": 8,
   "id": "5dd9a0d0",
   "metadata": {},
   "outputs": [
    {
     "name": "stdout",
     "output_type": "stream",
     "text": [
      "Enter temperature in celsius: 34\n",
      "Fahrenheit: 93.2\n"
     ]
    }
   ],
   "source": [
    "cel = int(input('Enter temperature in celsius: '))\n",
    "fer = 9/5 * cel +32\n",
    "print('Fahrenheit:', fer)"
   ]
  },
  {
   "cell_type": "markdown",
   "id": "faa2c221",
   "metadata": {},
   "source": [
    "# 5"
   ]
  },
  {
   "cell_type": "markdown",
   "id": "ba916e09",
   "metadata": {},
   "source": [
    "Doctor Ahmad needs a program in which patient write his weight and height and program should return BMI value of that patient.\n",
    "\n",
    "Your strategy should be:\n",
    "\n",
    "\n",
    "\n",
    "- Ask the user to input their weight in kilograms.\n",
    "\n",
    "\n",
    "- Ask the user to input their height in meters.\n",
    "\n",
    "\n",
    "- Calculate the BMI using the formula: 𝐵𝑀𝐼 = 𝑤𝑒𝑖𝑔ℎ𝑡 / ℎ𝑒𝑖𝑔ℎ𝑡**2​.  # (height is squared in formula)\n",
    "\n",
    "\n",
    "- Output the BMI value to the console.\n",
    "\n",
    "\n",
    "\n",
    "Using logical statements for inputs and final outputs will give clarity"
   ]
  },
  {
   "cell_type": "code",
   "execution_count": 3,
   "id": "2c9caae1",
   "metadata": {},
   "outputs": [
    {
     "name": "stdout",
     "output_type": "stream",
     "text": [
      "Enter your weight in KG: 40\n",
      "Enter your height in Metre: 2\n",
      "\n",
      "Your BMI is: 10.0\n"
     ]
    }
   ],
   "source": [
    "we = float(input('Enter your weight in KG: '))\n",
    "ht = float(input('Enter your height in Metre: '))\n",
    "\n",
    "bmi = we / (ht**2)\n",
    "\n",
    "print('\\nYour BMI is:', bmi)"
   ]
  },
  {
   "cell_type": "markdown",
   "id": "3024e4a6",
   "metadata": {},
   "source": [
    "# 6"
   ]
  },
  {
   "cell_type": "markdown",
   "id": "3bc91de6",
   "metadata": {},
   "source": [
    "Write a Python program that prompts the user to input a score and then prints out \"you are passed\" if the user has scored more marks than 40.\n",
    "\n",
    "\n",
    "\n",
    "These are known as if statements.\n",
    "\n",
    "\n",
    "ARE YOU DONE WITH THIS?\n",
    "\n",
    "Now, update you program, it should be able to deal with other scenario as well. If the user enter numbers less than 40, the program should print out: \"You are failed, better luck next time.\"\n",
    "\n",
    "\n",
    "These type of conditional statements are known are if else statements\n",
    "\n",
    "\n",
    "\n",
    "Now gear up for the coming assignments.."
   ]
  },
  {
   "cell_type": "code",
   "execution_count": 1,
   "id": "3d212a44",
   "metadata": {},
   "outputs": [
    {
     "name": "stdout",
     "output_type": "stream",
     "text": [
      "Enter your marks45\n",
      "you are passed\n"
     ]
    }
   ],
   "source": [
    "sc = int(input('Enter your marks'))\n",
    "\n",
    "if sc > 40:\n",
    "    print('you are passed')\n",
    "else:\n",
    "    print('You are failed, better luck next time.')\n",
    "    "
   ]
  },
  {
   "cell_type": "markdown",
   "id": "1511af94",
   "metadata": {},
   "source": [
    "# 7"
   ]
  },
  {
   "cell_type": "markdown",
   "id": "e1a1d789",
   "metadata": {},
   "source": [
    "Grading system\n",
    "\n",
    "\n",
    "\n",
    "Write a Python program that prompts the user to input a score and then prints out the corresponding grade according to the following criteria:\n",
    "\n",
    "\n",
    "\n",
    "- Score >= 90: \"A\"\n",
    "\n",
    "- 80 <= Score < 90: \"B\"\n",
    "\n",
    "- 70 <= Score < 80: \"C\"\n",
    "\n",
    "- 60 <= Score < 70: \"D\"\n",
    "\n",
    "- Score < 60: \"F\"\n",
    "\n",
    "\n",
    "\n",
    "Add two further conditions in your program such that if user input a string instead on integer score, our program should denote that \"string is not valid score, kindly input a integer number next time.\". When should you place this statement? Explore that in your compiler. \n",
    "\n",
    "\n",
    "\n",
    "- If input is \"answer\", then output should be: string is not valid score, kindly input a integer number next time.\n",
    "\n",
    "\n",
    "\n",
    "- If marks are less than 0 or greater than 100 then program should tell the user that \"marks are out of range. You score should be in between 0 and 100.\"\n",
    "\n",
    "\n",
    "\n",
    "Such statements are known as if else if or else if statements.\n",
    "\n"
   ]
  },
  {
   "cell_type": "code",
   "execution_count": 4,
   "id": "e345e366",
   "metadata": {},
   "outputs": [
    {
     "name": "stdout",
     "output_type": "stream",
     "text": [
      "Enter your marks: 75\n",
      "C\n"
     ]
    }
   ],
   "source": [
    "score = int(input('Enter your marks: '))\n",
    "\n",
    "if score >= 90:\n",
    "    print('A')\n",
    "\n",
    "elif score < 90 and score >= 80:\n",
    "    print('B')\n",
    "    \n",
    "elif score < 80 and score >= 70:\n",
    "    print('C')\n",
    "    \n",
    "elif score < 70 and score >= 60:\n",
    "    print('D')\n",
    "\n",
    "elif score < 60:\n",
    "    print('F')\n"
   ]
  },
  {
   "cell_type": "markdown",
   "id": "8a3f279c",
   "metadata": {},
   "source": [
    "# 8"
   ]
  },
  {
   "cell_type": "markdown",
   "id": "a7d36d63",
   "metadata": {},
   "source": [
    "### Largest among Three Numbers:\n",
    "\n",
    "\n",
    "Write a Python program that asks the user to input three numbers and then prints out the largest among them."
   ]
  },
  {
   "cell_type": "code",
   "execution_count": 8,
   "id": "45dd5c04",
   "metadata": {},
   "outputs": [
    {
     "name": "stdout",
     "output_type": "stream",
     "text": [
      "Enter a number: 9\n",
      "Enter another number: 11\n",
      "Enter another number: 4\n",
      "b is greater\n"
     ]
    }
   ],
   "source": [
    "a = int(input('Enter a number: '))\n",
    "b = int(input('Enter another number: '))\n",
    "c = int(input('Enter another number: '))\n",
    "\n",
    "if a > b:\n",
    "    if a > c:\n",
    "        print('\\na is greater')\n",
    "    else:\n",
    "        print('\\nc is greater')\n",
    "elif b < c:\n",
    "    print('\\nc is greater')\n",
    "else:\n",
    "    print('\\nb is greater')"
   ]
  },
  {
   "cell_type": "markdown",
   "id": "5e7eb82c",
   "metadata": {},
   "source": [
    "# 9"
   ]
  },
  {
   "cell_type": "markdown",
   "id": "38d2947a",
   "metadata": {},
   "source": [
    "Swapping values\n",
    "\n",
    "Write a program that ask user to input two numbers and store the values in x and y. \n",
    "\n",
    "Your program should then swap the values such that x will get value of y and y will get value of x. \n",
    "\n",
    "Unfortunately you can't create a third variable for this task.\n",
    "\n",
    "\n",
    "\n",
    "#### sample:\n",
    "\n",
    "enter a number: 5    (store value in x)\n",
    "\n",
    "enter another number: 6   (store value in y)\n",
    "\n",
    "Values swapped!\n",
    "\n",
    "x = 6\n",
    "\n",
    "y = 5\n",
    "\n",
    "This task can take your time. You better understanding take out your notebook and imagine different scenarios. Furthermore you specifically don't need to use conditional statements in this task.\n",
    "\n",
    "Give time to this assignment and properly understand your code. "
   ]
  },
  {
   "cell_type": "code",
   "execution_count": 12,
   "id": "eca4c932",
   "metadata": {},
   "outputs": [
    {
     "name": "stdout",
     "output_type": "stream",
     "text": [
      "Enter a number: 5\n",
      "Enter another number: 6\n",
      "\n",
      "x = 6\n",
      "y = 5\n"
     ]
    }
   ],
   "source": [
    "x = int(input('Enter a number: '))\n",
    "y = int(input('Enter another number: '))\n",
    "\n",
    "x = x + y\n",
    "y = x - y\n",
    "x = x - y\n",
    "print()\n",
    "print('x =', x)\n",
    "print('y =', y)"
   ]
  },
  {
   "cell_type": "markdown",
   "id": "a8d94413",
   "metadata": {},
   "source": [
    "# 10"
   ]
  },
  {
   "cell_type": "markdown",
   "id": "34527c76",
   "metadata": {},
   "source": [
    "### Triangle type checker:\n",
    "\n",
    "\n",
    "\n",
    "Create a Python program that determines the type of triangle based on its sides. Your program should:\n",
    "\n",
    "- Prompt the user to input the lengths of three sides of a triangle.\n",
    "\n",
    "- Use conditional statements to check if the triangle is equilateral, isosceles, or scalene.\n",
    "\n",
    "- Print the type of triangle.\n",
    "\n",
    "\n",
    "\n",
    "\n",
    "Equilateral triangle: Three sides are of same length.\n",
    "\n",
    "Isosceles triangle: Two sides are of same length.\n",
    "\n",
    "Scalene triangle:  All three sides are of different lengths.\n",
    "\n",
    "\n",
    "\n",
    "#### You can use as many conditional statements as you want."
   ]
  },
  {
   "cell_type": "code",
   "execution_count": 16,
   "id": "0ba6b99b",
   "metadata": {},
   "outputs": [
    {
     "name": "stdout",
     "output_type": "stream",
     "text": [
      "Enter the length of the first side: 4\n",
      "Enter the length of the second side: 3\n",
      "Enter the length of the third side: 2\n",
      "\n",
      "Scalene triangle\n"
     ]
    }
   ],
   "source": [
    "# Prompt the user to input the lengths of the three sides\n",
    "a = float(input(\"Enter the length of the first side: \"))\n",
    "b = float(input(\"Enter the length of the second side: \"))\n",
    "c = float(input(\"Enter the length of the third side: \"))\n",
    "print()\n",
    "if a == b == c:                       # if all sides are equal\n",
    "    print(\"Equilateral triangle\")\n",
    "     \n",
    "elif a == b or b == c or a == c:      # any two sides are equal\n",
    "    print(\"Isosceles triangle\")\n",
    "    \n",
    "else:\n",
    "    print(\"Scalene triangle\")\n",
    "\n"
   ]
  },
  {
   "cell_type": "markdown",
   "id": "f8e00db7",
   "metadata": {},
   "source": [
    "# 11"
   ]
  },
  {
   "cell_type": "markdown",
   "id": "57cbd096",
   "metadata": {},
   "source": [
    "### Tax calculator\n",
    "\n",
    "\n",
    "\n",
    "In a City name Jabinga in molangala have heavy taxes on monthly income of each of there employee.\n",
    "\n",
    "\n",
    "\n",
    "There rules are: \n",
    "\n",
    "0% tax on income up to $300\n",
    "\n",
    "10% tax on income from 400 to $700\n",
    "\n",
    "20% tax on income from 700 to $1000\n",
    "\n",
    "30% tax on income above $1000\n",
    "\n",
    "Ten thousand of the total population was assigned just to calculate tax of each individual. Still sometimes few people used to claim that the calculations are wrong.\n",
    "\n",
    "You need to create a program that takes income as a input from user and display the amount tax that this particular person has to pay.\n",
    "\n",
    "\n",
    "\n",
    "Let me break down steps for you:\n",
    "\n",
    "\n",
    "\n",
    "1- User input\n",
    "\n",
    "2- Tax calculations\n",
    "\n",
    "3- Output\n",
    "\n",
    "4- Error handling  (if the user enters wrong input, we should tell him that input is not correct)\n",
    "\n",
    "\n",
    "\n",
    "It is something interesting. Good luck.\n",
    "\n",
    "\n",
    "\n",
    "Note: no such state exist in the world.\n",
    "\n"
   ]
  },
  {
   "cell_type": "code",
   "execution_count": 23,
   "id": "7ded7ecc",
   "metadata": {},
   "outputs": [
    {
     "name": "stdout",
     "output_type": "stream",
     "text": [
      "Enter income in dollars: 10000\n",
      "Tax: 3000.0 $\n"
     ]
    }
   ],
   "source": [
    "inc = int(input('Enter income in dollars: '))\n",
    "\n",
    "if inc <= 300:\n",
    "    print('No tax')\n",
    "\n",
    "elif inc > 300 and inc <= 700:\n",
    "    tax = inc * 0.10              # tax is 10%\n",
    "    \n",
    "    print('Tax:', tax, '$')\n",
    "\n",
    "elif inc > 700 and inc <= 1000:\n",
    "    tax = inc * 0.20              # tax is 20%\n",
    "    \n",
    "    print('Tax:', tax, '$')\n",
    "    \n",
    "elif inc > 1000:\n",
    "    tax = inc * 0.30              # tax is 30%\n",
    "    \n",
    "    print('Tax:', tax, '$')\n"
   ]
  },
  {
   "cell_type": "markdown",
   "id": "4d2700ca",
   "metadata": {},
   "source": [
    "# 12"
   ]
  },
  {
   "cell_type": "markdown",
   "id": "b65400a8",
   "metadata": {},
   "source": [
    "### Factors\n",
    "\n",
    "As a math teacher, you need to write a program for your students in which your student will input a number and program will indicate whether it is a multiple of 2 or 3 or 4 or 5 or 6 or 7 or 8 or 9 or 10.  In short it will give all factors of that number from 1 to 10.\n",
    "\n",
    "Students can give any number. For that number your program should return all factors from 1 to 10.\n",
    "\n",
    "For example if the user enters 20, our program should print all numbers that are factor of 20. In this case it will print: 2, 4, 5, 10.\n",
    "\n",
    "If the user enter 15, our program should print: 3 and 5.\n",
    "\n"
   ]
  },
  {
   "cell_type": "code",
   "execution_count": 28,
   "id": "e3cb6b31",
   "metadata": {},
   "outputs": [
    {
     "name": "stdout",
     "output_type": "stream",
     "text": [
      "Enter a number: 15\n",
      "\n",
      "Factors:\n",
      "[3, 5]\n"
     ]
    }
   ],
   "source": [
    "number = int(input('Enter a number: '))\n",
    "\n",
    "factors = []  # empty list to store data\n",
    "\n",
    "\n",
    "# conditional statement for each of the number from 2 to 10\n",
    "# if a number is factor, we are adding that number in list\n",
    "\n",
    "if number % 2 == 0:\n",
    "    factors.append(2)\n",
    "if number % 3 == 0:\n",
    "    factors.append(3)\n",
    "if number % 4 == 0:\n",
    "    factors.append(4)\n",
    "if number % 5 == 0:\n",
    "    factors.append(5)\n",
    "if number % 6 == 0:\n",
    "    factors.append(6)\n",
    "if number % 7 == 0:\n",
    "    factors.append(7)\n",
    "if number % 8 == 0:\n",
    "    factors.append(8)\n",
    "if number % 9 == 0:\n",
    "    factors.append(9)\n",
    "if number % 10 == 0:\n",
    "    factors.append(10)\n",
    "\n",
    "# printing all the factors.    \n",
    "print('\\nFactors:')\n",
    "print(factors)"
   ]
  },
  {
   "cell_type": "markdown",
   "id": "6c5b3ace",
   "metadata": {},
   "source": [
    "# SECTION 3 FOR LOOPS"
   ]
  },
  {
   "cell_type": "markdown",
   "id": "c29d120e",
   "metadata": {},
   "source": [
    "# 13"
   ]
  },
  {
   "cell_type": "markdown",
   "id": "90bf9025",
   "metadata": {},
   "source": [
    "Now we are going to grasp for loop logics from basics in detail.\n",
    "\n",
    "Starting from very simple,\n",
    "\n",
    "\n",
    "- Write a code that prints numbers from 1 to 100 using for loop.\n",
    "\n",
    "- Write a code that prints 'Your name is professional in python' 100 times.      (Replace 'your name' with your actual name)\n",
    "\n",
    "\n",
    "These will be two different codes.\n"
   ]
  },
  {
   "cell_type": "code",
   "execution_count": 32,
   "id": "bd6164cd",
   "metadata": {
    "scrolled": true
   },
   "outputs": [
    {
     "name": "stdout",
     "output_type": "stream",
     "text": [
      "1\n",
      "2\n",
      "3\n",
      "4\n",
      "5\n",
      "6\n",
      "7\n",
      "8\n",
      "9\n",
      "10\n",
      "11\n",
      "12\n",
      "13\n",
      "14\n",
      "15\n",
      "16\n",
      "17\n",
      "18\n",
      "19\n",
      "20\n",
      "21\n",
      "22\n",
      "23\n",
      "24\n",
      "25\n",
      "26\n",
      "27\n",
      "28\n",
      "29\n",
      "30\n",
      "31\n",
      "32\n",
      "33\n",
      "34\n",
      "35\n",
      "36\n",
      "37\n",
      "38\n",
      "39\n",
      "40\n",
      "41\n",
      "42\n",
      "43\n",
      "44\n",
      "45\n",
      "46\n",
      "47\n",
      "48\n",
      "49\n",
      "50\n",
      "51\n",
      "52\n",
      "53\n",
      "54\n",
      "55\n",
      "56\n",
      "57\n",
      "58\n",
      "59\n",
      "60\n",
      "61\n",
      "62\n",
      "63\n",
      "64\n",
      "65\n",
      "66\n",
      "67\n",
      "68\n",
      "69\n",
      "70\n",
      "71\n",
      "72\n",
      "73\n",
      "74\n",
      "75\n",
      "76\n",
      "77\n",
      "78\n",
      "79\n",
      "80\n",
      "81\n",
      "82\n",
      "83\n",
      "84\n",
      "85\n",
      "86\n",
      "87\n",
      "88\n",
      "89\n",
      "90\n",
      "91\n",
      "92\n",
      "93\n",
      "94\n",
      "95\n",
      "96\n",
      "97\n",
      "98\n",
      "99\n",
      "100\n"
     ]
    }
   ],
   "source": [
    "for i in range(1, 101):\n",
    "    print(i)\n",
    "    "
   ]
  },
  {
   "cell_type": "code",
   "execution_count": 33,
   "id": "d975d12d",
   "metadata": {
    "scrolled": true
   },
   "outputs": [
    {
     "name": "stdout",
     "output_type": "stream",
     "text": [
      "Harman is professional in python!\n",
      "Harman is professional in python!\n",
      "Harman is professional in python!\n",
      "Harman is professional in python!\n",
      "Harman is professional in python!\n",
      "Harman is professional in python!\n",
      "Harman is professional in python!\n",
      "Harman is professional in python!\n",
      "Harman is professional in python!\n",
      "Harman is professional in python!\n",
      "Harman is professional in python!\n",
      "Harman is professional in python!\n",
      "Harman is professional in python!\n",
      "Harman is professional in python!\n",
      "Harman is professional in python!\n",
      "Harman is professional in python!\n",
      "Harman is professional in python!\n",
      "Harman is professional in python!\n",
      "Harman is professional in python!\n",
      "Harman is professional in python!\n",
      "Harman is professional in python!\n",
      "Harman is professional in python!\n",
      "Harman is professional in python!\n",
      "Harman is professional in python!\n",
      "Harman is professional in python!\n",
      "Harman is professional in python!\n",
      "Harman is professional in python!\n",
      "Harman is professional in python!\n",
      "Harman is professional in python!\n",
      "Harman is professional in python!\n",
      "Harman is professional in python!\n",
      "Harman is professional in python!\n",
      "Harman is professional in python!\n",
      "Harman is professional in python!\n",
      "Harman is professional in python!\n",
      "Harman is professional in python!\n",
      "Harman is professional in python!\n",
      "Harman is professional in python!\n",
      "Harman is professional in python!\n",
      "Harman is professional in python!\n",
      "Harman is professional in python!\n",
      "Harman is professional in python!\n",
      "Harman is professional in python!\n",
      "Harman is professional in python!\n",
      "Harman is professional in python!\n",
      "Harman is professional in python!\n",
      "Harman is professional in python!\n",
      "Harman is professional in python!\n",
      "Harman is professional in python!\n",
      "Harman is professional in python!\n",
      "Harman is professional in python!\n",
      "Harman is professional in python!\n",
      "Harman is professional in python!\n",
      "Harman is professional in python!\n",
      "Harman is professional in python!\n",
      "Harman is professional in python!\n",
      "Harman is professional in python!\n",
      "Harman is professional in python!\n",
      "Harman is professional in python!\n",
      "Harman is professional in python!\n",
      "Harman is professional in python!\n",
      "Harman is professional in python!\n",
      "Harman is professional in python!\n",
      "Harman is professional in python!\n",
      "Harman is professional in python!\n",
      "Harman is professional in python!\n",
      "Harman is professional in python!\n",
      "Harman is professional in python!\n",
      "Harman is professional in python!\n",
      "Harman is professional in python!\n",
      "Harman is professional in python!\n",
      "Harman is professional in python!\n",
      "Harman is professional in python!\n",
      "Harman is professional in python!\n",
      "Harman is professional in python!\n",
      "Harman is professional in python!\n",
      "Harman is professional in python!\n",
      "Harman is professional in python!\n",
      "Harman is professional in python!\n",
      "Harman is professional in python!\n",
      "Harman is professional in python!\n",
      "Harman is professional in python!\n",
      "Harman is professional in python!\n",
      "Harman is professional in python!\n",
      "Harman is professional in python!\n",
      "Harman is professional in python!\n",
      "Harman is professional in python!\n",
      "Harman is professional in python!\n",
      "Harman is professional in python!\n",
      "Harman is professional in python!\n",
      "Harman is professional in python!\n",
      "Harman is professional in python!\n",
      "Harman is professional in python!\n",
      "Harman is professional in python!\n",
      "Harman is professional in python!\n",
      "Harman is professional in python!\n",
      "Harman is professional in python!\n",
      "Harman is professional in python!\n",
      "Harman is professional in python!\n",
      "Harman is professional in python!\n"
     ]
    }
   ],
   "source": [
    "for i in range(100):\n",
    "    print('Harman is professional in python!')"
   ]
  },
  {
   "cell_type": "markdown",
   "id": "7f1351e2",
   "metadata": {},
   "source": [
    "# 14"
   ]
  },
  {
   "cell_type": "markdown",
   "id": "919d2dac",
   "metadata": {},
   "source": [
    "Let's get some advanced!\n",
    "\n",
    "\n",
    "Let say a class in a school contain 20 students. Using for loop, write a code that ask user to enter name of student 20 times. \n",
    "\n",
    "Every time user enters a name, you will store that name in a list named 'students'.\n",
    "\n",
    "#### Note: Create a empty list before entering in the loop body.\n",
    "\n",
    "Do one more thing: print list in every iteration of loop for better understanding how elements are being added in the list.\n",
    "\n",
    "\n",
    "\n",
    "To add elements in a list: list.append(element)"
   ]
  },
  {
   "cell_type": "code",
   "execution_count": 36,
   "id": "a2f88237",
   "metadata": {},
   "outputs": [
    {
     "name": "stdout",
     "output_type": "stream",
     "text": [
      "\n",
      "Enter name of student: ali\n",
      "['ali']\n",
      "\n",
      "Enter name of student: ali1\n",
      "['ali', 'ali1']\n",
      "\n",
      "Enter name of student: ali2\n",
      "['ali', 'ali1', 'ali2']\n",
      "\n",
      "Enter name of student: ali3\n",
      "['ali', 'ali1', 'ali2', 'ali3']\n",
      "\n",
      "Enter name of student: ali4\n",
      "['ali', 'ali1', 'ali2', 'ali3', 'ali4']\n",
      "\n",
      "Enter name of student: ali5\n",
      "['ali', 'ali1', 'ali2', 'ali3', 'ali4', 'ali5']\n",
      "\n",
      "Enter name of student: ali6\n",
      "['ali', 'ali1', 'ali2', 'ali3', 'ali4', 'ali5', 'ali6']\n",
      "\n",
      "Enter name of student: ali7\n",
      "['ali', 'ali1', 'ali2', 'ali3', 'ali4', 'ali5', 'ali6', 'ali7']\n",
      "\n",
      "Enter name of student: ali8\n",
      "['ali', 'ali1', 'ali2', 'ali3', 'ali4', 'ali5', 'ali6', 'ali7', 'ali8']\n",
      "\n",
      "Enter name of student: ali9\n",
      "['ali', 'ali1', 'ali2', 'ali3', 'ali4', 'ali5', 'ali6', 'ali7', 'ali8', 'ali9']\n",
      "\n",
      "Enter name of student: ali10\n",
      "['ali', 'ali1', 'ali2', 'ali3', 'ali4', 'ali5', 'ali6', 'ali7', 'ali8', 'ali9', 'ali10']\n",
      "\n",
      "Enter name of student: ali11\n",
      "['ali', 'ali1', 'ali2', 'ali3', 'ali4', 'ali5', 'ali6', 'ali7', 'ali8', 'ali9', 'ali10', 'ali11']\n",
      "\n",
      "Enter name of student: ali12\n",
      "['ali', 'ali1', 'ali2', 'ali3', 'ali4', 'ali5', 'ali6', 'ali7', 'ali8', 'ali9', 'ali10', 'ali11', 'ali12']\n",
      "\n",
      "Enter name of student: ali13\n",
      "['ali', 'ali1', 'ali2', 'ali3', 'ali4', 'ali5', 'ali6', 'ali7', 'ali8', 'ali9', 'ali10', 'ali11', 'ali12', 'ali13']\n",
      "\n",
      "Enter name of student: ali14\n",
      "['ali', 'ali1', 'ali2', 'ali3', 'ali4', 'ali5', 'ali6', 'ali7', 'ali8', 'ali9', 'ali10', 'ali11', 'ali12', 'ali13', 'ali14']\n",
      "\n",
      "Enter name of student: ali15\n",
      "['ali', 'ali1', 'ali2', 'ali3', 'ali4', 'ali5', 'ali6', 'ali7', 'ali8', 'ali9', 'ali10', 'ali11', 'ali12', 'ali13', 'ali14', 'ali15']\n",
      "\n",
      "Enter name of student: ali16\n",
      "['ali', 'ali1', 'ali2', 'ali3', 'ali4', 'ali5', 'ali6', 'ali7', 'ali8', 'ali9', 'ali10', 'ali11', 'ali12', 'ali13', 'ali14', 'ali15', 'ali16']\n",
      "\n",
      "Enter name of student: ali17\n",
      "['ali', 'ali1', 'ali2', 'ali3', 'ali4', 'ali5', 'ali6', 'ali7', 'ali8', 'ali9', 'ali10', 'ali11', 'ali12', 'ali13', 'ali14', 'ali15', 'ali16', 'ali17']\n",
      "\n",
      "Enter name of student: ali18\n",
      "['ali', 'ali1', 'ali2', 'ali3', 'ali4', 'ali5', 'ali6', 'ali7', 'ali8', 'ali9', 'ali10', 'ali11', 'ali12', 'ali13', 'ali14', 'ali15', 'ali16', 'ali17', 'ali18']\n",
      "\n",
      "Enter name of student: ali19\n",
      "['ali', 'ali1', 'ali2', 'ali3', 'ali4', 'ali5', 'ali6', 'ali7', 'ali8', 'ali9', 'ali10', 'ali11', 'ali12', 'ali13', 'ali14', 'ali15', 'ali16', 'ali17', 'ali18', 'ali19']\n"
     ]
    }
   ],
   "source": [
    "sn = []\n",
    "\n",
    "for i in range(20):\n",
    "    name = input('\\nEnter name of student: ')\n",
    "    sn.append(name)\n",
    "    print(sn)"
   ]
  },
  {
   "cell_type": "markdown",
   "id": "d3c97adb",
   "metadata": {},
   "source": [
    "# 15"
   ]
  },
  {
   "cell_type": "markdown",
   "id": "c1d9a0b0",
   "metadata": {},
   "source": [
    "Let's calculate average marks of a whole class using loop structure. Let say class consist of 20 students. Your for loop should run 20 times and ask user to enter marks of student. Store all marks in a list.\n",
    "\n",
    "\n",
    "\n",
    "- Once data of 20 students in entered, you have list containing marks of all 20 students. Calculate average of class by this formula:    Sum of numbers / Total number of students\n",
    "\n",
    "\n",
    "\n",
    "- Length of list will represent number of students\n",
    "\n",
    "\n",
    "\n",
    "- You can use built function sum(list) and len(list) to calculate the average value."
   ]
  },
  {
   "cell_type": "code",
   "execution_count": 37,
   "id": "acd65dbe",
   "metadata": {},
   "outputs": [
    {
     "name": "stdout",
     "output_type": "stream",
     "text": [
      "Enter marks: 23\n",
      "Enter marks: 43\n",
      "Enter marks: 54\n",
      "Enter marks: 34\n",
      "Enter marks: 54\n",
      "Enter marks: 32\n",
      "Enter marks: 23\n",
      "Enter marks: 23\n",
      "Enter marks: 65\n",
      "Enter marks: 13\n",
      "Enter marks: 53\n",
      "Enter marks: 23\n",
      "Enter marks: 65\n",
      "Enter marks: 32\n",
      "Enter marks: 53\n",
      "Enter marks: 55\n",
      "Enter marks: 23\n",
      "Enter marks: 14\n",
      "Enter marks: 56\n",
      "Enter marks: 24\n",
      "Average: 38.1\n"
     ]
    }
   ],
   "source": [
    "tm = []\n",
    "\n",
    "for i in range(20):\n",
    "    marks = int(input('Enter marks: '))\n",
    "    tm.append(marks)\n",
    "\n",
    "average = sum(tm) / len(tm)\n",
    "\n",
    "print('Average:', average)\n",
    "    "
   ]
  },
  {
   "cell_type": "markdown",
   "id": "23b7b140",
   "metadata": {},
   "source": [
    "# 16"
   ]
  },
  {
   "cell_type": "markdown",
   "id": "1f717113",
   "metadata": {},
   "source": [
    "Let's now merge conditional statements and for loops. Your task is to write a program that runs for loop 10 times. Each time it should:\n",
    "\n",
    "\n",
    "\n",
    "- Take input from user\n",
    "\n",
    "- Apply if else block to predict whether it is a even number or odd number\n",
    "\n",
    "- If it is a even number, print 'Number is even!' and if number is odd, print 'Number is odd!'\n",
    "\n"
   ]
  },
  {
   "cell_type": "code",
   "execution_count": 40,
   "id": "b64603ea",
   "metadata": {
    "scrolled": true
   },
   "outputs": [
    {
     "name": "stdout",
     "output_type": "stream",
     "text": [
      "\n",
      "Enter a number: 34\n",
      "Even number\n",
      "\n",
      "Enter a number: 22\n",
      "Even number\n",
      "\n",
      "Enter a number: 54\n",
      "Even number\n",
      "\n",
      "Enter a number: 44\n",
      "Even number\n",
      "\n",
      "Enter a number: 33\n",
      "Odd number\n",
      "\n",
      "Enter a number: 22\n",
      "Even number\n",
      "\n",
      "Enter a number: 11\n",
      "Odd number\n",
      "\n",
      "Enter a number: 10\n",
      "Even number\n",
      "\n",
      "Enter a number: 98\n",
      "Even number\n",
      "\n",
      "Enter a number: 45\n",
      "Odd number\n"
     ]
    }
   ],
   "source": [
    "for i in range(10):\n",
    "    nu = int(input('\\nEnter a number: '))\n",
    "\n",
    "    if nu % 2 == 0:\n",
    "        print('Even number')\n",
    "\n",
    "    else:\n",
    "        print('Odd number')"
   ]
  },
  {
   "cell_type": "markdown",
   "id": "a13d5d22",
   "metadata": {},
   "source": [
    "# 17"
   ]
  },
  {
   "cell_type": "markdown",
   "id": "95d878b4",
   "metadata": {},
   "source": [
    "li = [34, 54, 23, 5, 45, 65]\n",
    "\n",
    "\n",
    "\n",
    "Your task is to create a for loop that calculate sum of all numbers of this list.\n",
    "\n",
    "With every iteration of loop, print your your current sum to see what's happening!"
   ]
  },
  {
   "cell_type": "code",
   "execution_count": 44,
   "id": "35ddeebd",
   "metadata": {},
   "outputs": [
    {
     "name": "stdout",
     "output_type": "stream",
     "text": [
      "Current total: 34\n",
      "Current total: 88\n",
      "Current total: 111\n",
      "Current total: 116\n",
      "Current total: 161\n",
      "Current total: 226\n",
      "\n",
      "Sum of list: 226\n"
     ]
    }
   ],
   "source": [
    "li = [34, 54, 23, 5, 45, 65]\n",
    "\n",
    "total = 0\n",
    "for i in li:\n",
    "    total = total + i\n",
    "    \n",
    "    print('Current total:', total)\n",
    "    \n",
    "print('\\nSum of list:', total)"
   ]
  },
  {
   "cell_type": "markdown",
   "id": "4788c885",
   "metadata": {},
   "source": [
    "# 18"
   ]
  },
  {
   "cell_type": "markdown",
   "id": "e0985ff6",
   "metadata": {},
   "source": [
    "Multiplication table\n",
    "\n",
    "Your program should first take input number from user and output table of that number up to 10.\n",
    "\n",
    "If input number is 3, output should look like: \n",
    "\n",
    "\n",
    "\n",
    "3 X 1 = 3\n",
    "\n",
    "3 X 2 = 6\n",
    "\n",
    "3 X 3 = 9\n",
    "\n",
    "3 X 4 = 12\n",
    "\n",
    "3 X 5 = 15\n",
    "\n",
    "3 X 6 = 18\n",
    "\n",
    "3 X 7 = 21\n",
    "\n",
    "3 X 8 = 24\n",
    "\n",
    "3 X 9 = 27\n",
    "\n",
    "3 X 10 = 30"
   ]
  },
  {
   "cell_type": "code",
   "execution_count": 46,
   "id": "ffe71a00",
   "metadata": {},
   "outputs": [
    {
     "name": "stdout",
     "output_type": "stream",
     "text": [
      "Enter a number:5\n",
      "\n",
      "5 X 1 = 5\n",
      "5 X 2 = 10\n",
      "5 X 3 = 15\n",
      "5 X 4 = 20\n",
      "5 X 5 = 25\n",
      "5 X 6 = 30\n",
      "5 X 7 = 35\n",
      "5 X 8 = 40\n",
      "5 X 9 = 45\n",
      "5 X 10 = 50\n"
     ]
    }
   ],
   "source": [
    "a = int(input('Enter a number:'))\n",
    "print()\n",
    "for i in range(1, 11):\n",
    "    print(a, 'X', i, '=', a*i)"
   ]
  },
  {
   "cell_type": "markdown",
   "id": "c5eaf890",
   "metadata": {},
   "source": [
    "# 19"
   ]
  },
  {
   "cell_type": "markdown",
   "id": "af28fb23",
   "metadata": {},
   "source": [
    "### Students info\n",
    "\n",
    "\n",
    "Create two empty lists: student_name and student_marks.\n",
    "\n",
    "\n",
    "Write a for loop in which user will give name and marks of students as input and you will store name in student_name list and marks in students_marks list. Enter data for 10 students.\n",
    "\n",
    "\n",
    "Write another for loop. This for loop will print each student name with their marks in a logical way.\n",
    "\n",
    "\n",
    "#### Sample output will be:\n",
    "\n",
    "Ali got 45 marks\n",
    "\n",
    "Ahmad got 60 marks\n",
    "\n",
    "Mujtaba got 46 marks\n",
    "\n",
    "Rehman got 60 marks\n",
    "\n",
    "Murtaza got 34 marks\n",
    "\n",
    "Abdullah got 40 marks\n",
    "\n",
    "Hufaiza got 90 marks\n",
    "\n",
    "Muneeb got 50 marks\n",
    "\n",
    "Fahad got 56 marks\n",
    "\n",
    "Zain got 79 marks\n"
   ]
  },
  {
   "cell_type": "code",
   "execution_count": 50,
   "id": "83d117d0",
   "metadata": {},
   "outputs": [
    {
     "name": "stdout",
     "output_type": "stream",
     "text": [
      "\n",
      "Enter name of student: ali\n",
      "Enter marks of student: 21\n",
      "\n",
      "Enter name of student: ahmad\n",
      "Enter marks of student: 32\n",
      "\n",
      "Enter name of student: Zawiyar\n",
      "Enter marks of student: 43\n",
      "\n",
      "Enter name of student: Ibrahim\n",
      "Enter marks of student: 34\n",
      "\n",
      "Enter name of student: Abdullah\n",
      "Enter marks of student: 32\n",
      "\n",
      "Enter name of student: Omar\n",
      "Enter marks of student: 45\n",
      "\n",
      "Enter name of student: Mujtaba\n",
      "Enter marks of student: 35\n",
      "\n",
      "Enter name of student: Awais\n",
      "Enter marks of student: 43\n",
      "\n",
      "Enter name of student: Hurrain\n",
      "Enter marks of student: 35\n",
      "\n",
      "Enter name of student: Harman\n",
      "Enter marks of student: 43\n",
      "\n",
      "\n",
      "ali got 21 marks\n",
      "ahmad got 32 marks\n",
      "Zawiyar got 43 marks\n",
      "Ibrahim got 34 marks\n",
      "Abdullah got 32 marks\n",
      "Omar got 45 marks\n",
      "Mujtaba got 35 marks\n",
      "Awais got 43 marks\n",
      "Hurrain got 35 marks\n",
      "Harman got 43 marks\n"
     ]
    }
   ],
   "source": [
    "names = []\n",
    "marks = []\n",
    "\n",
    "for i in range(10):\n",
    "    print()\n",
    "    na = input('Enter name of student: ')\n",
    "    ma = input('Enter marks of student: ')\n",
    "    \n",
    "    names.append(na)\n",
    "    marks.append(ma)\n",
    "\n",
    "print()\n",
    "print()\n",
    "for i in range(10):\n",
    "    print(names[i], 'got', marks[i], 'marks')"
   ]
  },
  {
   "cell_type": "markdown",
   "id": "b806f86d",
   "metadata": {},
   "source": [
    "# 20"
   ]
  },
  {
   "cell_type": "markdown",
   "id": "13c0e043",
   "metadata": {},
   "source": [
    "When I was in grade 11, we had to find factorial of a number using paper and pencil.\n",
    "\n",
    "I was fun for smaller number for larger numbers, it was lengthy and boring and sometimes calculations were wrong. Lets now create a program that will calculate factorial of a given number.\n",
    "\n",
    "\n",
    "\n",
    "### What is factorial?\n",
    "\n",
    "Factorial of 3 = 3 X 2 X 1 = 6\n",
    "\n",
    "Factorial of 4 = 4 X 3 X 2 X 1 = 24\n",
    "\n",
    "\n",
    "\n",
    "Similarly any number multiplied by all numbers smaller than that number gives factorial value.\n",
    "\n",
    "For example if number is 5, then 5 will get multiplied by all numbers smaller than 5 i.e. 1,2,3,4\n",
    "\n",
    "\n",
    "\n",
    "Factorial of 5 = 5 X 4 X 3 X 2 X 1 = 120\n",
    "\n",
    "\n",
    "\n",
    "Let's make a python code that will just take number as input and print its output.\n",
    "\n",
    "\n",
    "\n",
    "Let's make this program together!\n",
    "\n"
   ]
  },
  {
   "cell_type": "code",
   "execution_count": null,
   "id": "6ce8fdcb",
   "metadata": {},
   "outputs": [],
   "source": [
    "\n",
    "product = 1\n",
    "\n",
    "# initially factorial is 1\n",
    "\n",
    "\n",
    "\n",
    "fact = ____('Enter a number you want factorial of: ')\n",
    "\n",
    "# Take proper input from user in integers.\n",
    "\n",
    "\n",
    "\n",
    "# Initialize a for loop. Range of i should cover all number less than input but it should not include 0  # because 0 is not included in calculation of factorial. if input is 3, range should be: 1, 2, 3. \n",
    "# Range should include input itself as well.\n",
    "# If number is 5, range should be: 1, 2, 3, 4, 5\n",
    "\n",
    "\n",
    "for i in range(_, fact+_):\n",
    "\n",
    "\n",
    "\n",
    "# with every iteration, multiply value of product with current value of i and rewrite value of product\n",
    "\n",
    "\n",
    "\n",
    "    product = product * __\n",
    "\n",
    "\n",
    "\n",
    "\n",
    "\n",
    "print('Factorial of given number is: ' + str(product))   \n",
    "\n",
    "\n",
    "\n"
   ]
  },
  {
   "cell_type": "code",
   "execution_count": 52,
   "id": "c9e08c2c",
   "metadata": {},
   "outputs": [
    {
     "name": "stdout",
     "output_type": "stream",
     "text": [
      "Enter a number you want factorial of: 4\n",
      "Factorial of given number is: 24\n"
     ]
    }
   ],
   "source": [
    "\n",
    "product = 1\n",
    "\n",
    "# initially factorial is 1\n",
    "\n",
    "fact = int(input('Enter a number you want factorial of: '))\n",
    "\n",
    "# Take proper input from user in integers.\n",
    "\n",
    "\n",
    "\n",
    "# Initialize a for loop. Range of i should cover all number less than input but it should not include 0  # because 0 is not included in calculation of factorial. if input is 3, range should be: 1, 2, 3. \n",
    "# Range should include input itself as well.\n",
    "# If number is 5, range should be: 1, 2, 3, 4, 5\n",
    "\n",
    "\n",
    "for i in range(1, fact+1):\n",
    "\n",
    "# with every iteration, multiply value of product with current value of i and rewrite value of product\n",
    "\n",
    "    product = product * i\n",
    "\n",
    "\n",
    "print('Factorial of given number is: ' + str(product))   \n",
    "\n",
    "\n",
    "\n"
   ]
  },
  {
   "cell_type": "markdown",
   "id": "565cd203",
   "metadata": {},
   "source": [
    "# 21"
   ]
  },
  {
   "cell_type": "markdown",
   "id": "1272c84f",
   "metadata": {},
   "source": [
    "### Emergeny - Break statement\n",
    "\n",
    "break keyword in loops is used to stop the execution. Now we will make a program that will run 100 times. But under certain conditions its execution will stop immediately. Let say you are a doctor. Whenever a patient comes, one of your worker enter disease name of that particular patient.\n",
    "\n",
    "\n",
    "\n",
    "You want your system to stop taking input once the Heart patient comes. Whenever the disease name is 'heart' then the program should print 'Emergency situation Emergency situation' and no more inputs should be taken.\n",
    "\n",
    "\n",
    "\n",
    "Write a for loop that will run 100 times. Under the body of loop, take input from user about disease name. Use a if statement to check whether the disease name is 'heart'. if it is,  then print particular statement and break the loop at that point.\n",
    "\n",
    "\n",
    "\n"
   ]
  },
  {
   "cell_type": "code",
   "execution_count": 54,
   "id": "830ae3e3",
   "metadata": {},
   "outputs": [
    {
     "name": "stdout",
     "output_type": "stream",
     "text": [
      "Enter patient disease: ad\n",
      "Enter patient disease: hg\n",
      "Enter patient disease: adf\n",
      "Enter patient disease: hsf\n",
      "Enter patient disease: heart\n",
      "\n",
      "Emergency situation Emergency situation\n"
     ]
    }
   ],
   "source": [
    "for i in range(100):\n",
    "    dis = input('Enter patient disease: ')\n",
    "    \n",
    "    if dis == 'heart':\n",
    "        print('\\nEmergency situation Emergency situation')\n",
    "        break"
   ]
  },
  {
   "cell_type": "markdown",
   "id": "9a5ff270",
   "metadata": {},
   "source": [
    "# 22"
   ]
  },
  {
   "cell_type": "markdown",
   "id": "f96435d7",
   "metadata": {},
   "source": [
    "## While loops\n",
    "Let's start with while loops in python. Starting from making a simple while loop, \n",
    "\n",
    "- Write a while loop that print numbers from 1 to 20.\n",
    "\n",
    "- Write a while that print multiple of 3 from 30 to 90.\n",
    "\n",
    "- Write a while loop that print your name one hundred times.\n",
    "\n",
    "\n",
    "Output for third program should look like:\n",
    "\n",
    "1 - Ali\n",
    "\n",
    "2 - Ali\n",
    "\n",
    "3 - Ali\n",
    "\n",
    "\n",
    ".\n",
    "\n",
    ".\n",
    "\n",
    ".\n",
    "\n",
    ".\n",
    "\n",
    "100 - Ali\n"
   ]
  },
  {
   "cell_type": "code",
   "execution_count": 55,
   "id": "70fa7326",
   "metadata": {
    "scrolled": false
   },
   "outputs": [
    {
     "name": "stdout",
     "output_type": "stream",
     "text": [
      "1\n",
      "2\n",
      "3\n",
      "4\n",
      "5\n",
      "6\n",
      "7\n",
      "8\n",
      "9\n",
      "10\n",
      "11\n",
      "12\n",
      "13\n",
      "14\n",
      "15\n",
      "16\n",
      "17\n",
      "18\n",
      "19\n",
      "20\n"
     ]
    }
   ],
   "source": [
    "a = 1\n",
    "while a <= 20:\n",
    "    print(a)\n",
    "    \n",
    "    a = a + 1\n",
    "    \n",
    "    "
   ]
  },
  {
   "cell_type": "code",
   "execution_count": 56,
   "id": "1cc32c70",
   "metadata": {
    "scrolled": true
   },
   "outputs": [
    {
     "name": "stdout",
     "output_type": "stream",
     "text": [
      "3\n",
      "6\n",
      "9\n",
      "12\n",
      "15\n",
      "18\n",
      "21\n",
      "24\n",
      "27\n",
      "30\n",
      "33\n",
      "36\n",
      "39\n",
      "42\n",
      "45\n",
      "48\n",
      "51\n",
      "54\n",
      "57\n",
      "60\n",
      "63\n",
      "66\n",
      "69\n",
      "72\n",
      "75\n",
      "78\n",
      "81\n",
      "84\n",
      "87\n",
      "90\n"
     ]
    }
   ],
   "source": [
    "a = 3\n",
    "\n",
    "while a <= 90:\n",
    "    print(a)\n",
    "    \n",
    "    a = a + 3"
   ]
  },
  {
   "cell_type": "code",
   "execution_count": 59,
   "id": "8004a6c4",
   "metadata": {},
   "outputs": [
    {
     "name": "stdout",
     "output_type": "stream",
     "text": [
      "1 - Harman\n",
      "2 - Harman\n",
      "3 - Harman\n",
      "4 - Harman\n",
      "5 - Harman\n",
      "6 - Harman\n",
      "7 - Harman\n",
      "8 - Harman\n",
      "9 - Harman\n",
      "10 - Harman\n",
      "11 - Harman\n",
      "12 - Harman\n",
      "13 - Harman\n",
      "14 - Harman\n",
      "15 - Harman\n",
      "16 - Harman\n",
      "17 - Harman\n",
      "18 - Harman\n",
      "19 - Harman\n",
      "20 - Harman\n",
      "21 - Harman\n",
      "22 - Harman\n",
      "23 - Harman\n",
      "24 - Harman\n",
      "25 - Harman\n",
      "26 - Harman\n",
      "27 - Harman\n",
      "28 - Harman\n",
      "29 - Harman\n",
      "30 - Harman\n",
      "31 - Harman\n",
      "32 - Harman\n",
      "33 - Harman\n",
      "34 - Harman\n",
      "35 - Harman\n",
      "36 - Harman\n",
      "37 - Harman\n",
      "38 - Harman\n",
      "39 - Harman\n",
      "40 - Harman\n",
      "41 - Harman\n",
      "42 - Harman\n",
      "43 - Harman\n",
      "44 - Harman\n",
      "45 - Harman\n",
      "46 - Harman\n",
      "47 - Harman\n",
      "48 - Harman\n",
      "49 - Harman\n",
      "50 - Harman\n",
      "51 - Harman\n",
      "52 - Harman\n",
      "53 - Harman\n",
      "54 - Harman\n",
      "55 - Harman\n",
      "56 - Harman\n",
      "57 - Harman\n",
      "58 - Harman\n",
      "59 - Harman\n",
      "60 - Harman\n",
      "61 - Harman\n",
      "62 - Harman\n",
      "63 - Harman\n",
      "64 - Harman\n",
      "65 - Harman\n",
      "66 - Harman\n",
      "67 - Harman\n",
      "68 - Harman\n",
      "69 - Harman\n",
      "70 - Harman\n",
      "71 - Harman\n",
      "72 - Harman\n",
      "73 - Harman\n",
      "74 - Harman\n",
      "75 - Harman\n",
      "76 - Harman\n",
      "77 - Harman\n",
      "78 - Harman\n",
      "79 - Harman\n",
      "80 - Harman\n",
      "81 - Harman\n",
      "82 - Harman\n",
      "83 - Harman\n",
      "84 - Harman\n",
      "85 - Harman\n",
      "86 - Harman\n",
      "87 - Harman\n",
      "88 - Harman\n",
      "89 - Harman\n",
      "90 - Harman\n",
      "91 - Harman\n",
      "92 - Harman\n",
      "93 - Harman\n",
      "94 - Harman\n",
      "95 - Harman\n",
      "96 - Harman\n",
      "97 - Harman\n",
      "98 - Harman\n",
      "99 - Harman\n",
      "100 - Harman\n"
     ]
    }
   ],
   "source": [
    "a = 1\n",
    "\n",
    "while a <= 100:\n",
    "    print(a, '- Harman')\n",
    "    \n",
    "    a = a + 1"
   ]
  },
  {
   "cell_type": "markdown",
   "id": "b4e6fad0",
   "metadata": {},
   "source": [
    "# 23"
   ]
  },
  {
   "cell_type": "markdown",
   "id": "3ca58eee",
   "metadata": {},
   "source": [
    "### Guess game - Atomic Bomb\n",
    "\n",
    "Now let's create a simple guess game using loop.\n",
    "\n",
    "Every guess game have a particular question and its answer. Our question will be: \n",
    "\n",
    "'Which state did first atomic attack on other state?' and answer to this question is 'America'.\n",
    "\n",
    "\n",
    "\n",
    "Write a while loop that will ask user the question  'Which state did first atomic attack on other state?'  again and again until the user enter 'America'. Once we get the right answer, we will out of while loop.\n",
    "\n",
    "\n",
    "\n",
    "You will need to create 'answer' variable with empty strings before entering while loop. Apply the condition such that for loop will until answer (variable) is not equal to 'America'.\n",
    "\n",
    "\n",
    "\n",
    "Within the body of while loop, take input from user and store the value in variable 'answer'\n",
    "\n"
   ]
  },
  {
   "cell_type": "code",
   "execution_count": 2,
   "id": "649c5c2f",
   "metadata": {},
   "outputs": [
    {
     "name": "stdout",
     "output_type": "stream",
     "text": [
      "Which state did first atomic attack on other state? Britain\n",
      "Which state did first atomic attack on other state? Egypt\n",
      "Which state did first atomic attack on other state? Iran\n",
      "Which state did first atomic attack on other state? Japan\n",
      "Which state did first atomic attack on other state? China\n",
      "Which state did first atomic attack on other state? America\n"
     ]
    }
   ],
   "source": [
    "answer = ''\n",
    "\n",
    "while answer != 'America':\n",
    "    answer = input('Which state did first atomic attack on other state? ')"
   ]
  },
  {
   "cell_type": "markdown",
   "id": "6261f554",
   "metadata": {},
   "source": [
    "# 24"
   ]
  },
  {
   "cell_type": "markdown",
   "id": "775a9033",
   "metadata": {},
   "source": [
    "Professor Amjad need a program for his math students. Students are aged  7-13. Professor want to make a program that will ask the student simple multiplication answer and keep asking the question until correct answer is entered. To generate two random numbers, we will use random module. \n",
    "import random\n",
    "a = random.randint(1,10)\n",
    "\n",
    "These lines can generate  a random number from 1 to 10.\n",
    "\n",
    "Step by step guide\n",
    "\n",
    "•\tYou will write a program which will generate two random numbers. Store your random number in variable 'num1' and 'num2'.  \n",
    "•\tCreate a third variab\n",
    "  \n",
    "le 'product' equal to product of two random number that we generated previously. \n",
    "•\tCreate variable 'answer' .  This variable will be empty string as we did in previous assignments. \n",
    "•\tFinally build a while loop that will run until answer is not equal to 'product'. Within the while loop ask your question from the user and store answer in variable 'answer'.\n",
    "\n",
    "•\tQuestion is: num1 X num2  = ?\n",
    "(num1 and num2 will be randomly generated numbers.)\n",
    "\n",
    "You will have to do datatype conversion for this task for the input statement.\n"
   ]
  },
  {
   "cell_type": "code",
   "execution_count": 11,
   "id": "8e87a5a5",
   "metadata": {},
   "outputs": [
    {
     "name": "stdout",
     "output_type": "stream",
     "text": [
      "3 X 4 = 11\n",
      "3 X 4 = 13\n",
      "3 X 4 = 15\n",
      "3 X 4 = 54\n",
      "3 X 4 = 12\n"
     ]
    }
   ],
   "source": [
    "import random\n",
    "num1 = random.randint(1,10)\n",
    "num2 = random.randint(1,10)\n",
    "answer = ''\n",
    "\n",
    "while answer != num1*num2:\n",
    "    answer = int(input(str(num1) + ' X ' + str(num2) + ' = '))"
   ]
  },
  {
   "cell_type": "markdown",
   "id": "7981af82",
   "metadata": {},
   "source": [
    "# 25"
   ]
  },
  {
   "cell_type": "markdown",
   "id": "8836d51a",
   "metadata": {},
   "source": [
    "Let's make previous assignment more practical. Let say professor want us to make a program that ask the student questions number of times. For example it will repeat the assignment number of times. Let say he want us to ask 15 questions from student. \n",
    "\n",
    "\n",
    "How can implement this? You can copy the code the paste it again and again and hence the program will ask questions again and again.. Right? \n",
    "\n",
    "Well, try not to do this way! Use a for loop to repeat the process 15 times. \n",
    "\n",
    "Hint: Make a for loop that will run 15 times and place your whole code within body of that for loop."
   ]
  },
  {
   "cell_type": "code",
   "execution_count": 1,
   "id": "591737dd",
   "metadata": {},
   "outputs": [
    {
     "name": "stdout",
     "output_type": "stream",
     "text": [
      "8 X 2 = 23\n",
      "8 X 2 = 23\n",
      "8 X 2 = 16\n",
      "2 X 8 = 43\n",
      "2 X 8 = 64\n",
      "2 X 8 = 16\n",
      "3 X 6 = 18\n",
      "2 X 6 = 12\n"
     ]
    }
   ],
   "source": [
    "import random\n",
    "\n",
    "for i in range(4):  \n",
    "    num1 = random.randint(1,10)\n",
    "    num2 = random.randint(1,10)\n",
    "    answer = ''\n",
    "\n",
    "    while answer != num1*num2:\n",
    "        answer = int(input(str(num1) + ' X ' + str(num2) + ' = '))"
   ]
  },
  {
   "cell_type": "markdown",
   "id": "4640f5fe",
   "metadata": {},
   "source": [
    "# 26"
   ]
  },
  {
   "cell_type": "markdown",
   "id": "317fb29b",
   "metadata": {},
   "source": [
    "There are three seating categories at a stadium. \n",
    "Class A seats cost 2000 rupees, \n",
    "Class B seats cost 1500 rupees,\n",
    "Class C seats cost 1000 rupees,\n",
    "\n",
    "Write a program that asks how many tickets for each class of seats were sold, then displays the income generated from ticket sales. Display amount generated by each class individually and then print total amount of three classes as well"
   ]
  },
  {
   "cell_type": "code",
   "execution_count": 3,
   "id": "51c73ed0",
   "metadata": {},
   "outputs": [
    {
     "name": "stdout",
     "output_type": "stream",
     "text": [
      "How many class A tickets are sold: 3\n",
      "How many class B tickets are sold: 3\n",
      "How many class C tickets are sold: 3\n",
      "\n",
      "Class A amount generated:  6000\n",
      "Class B amount generated:  4500\n",
      "Class C amount generated:  3000\n",
      "\n",
      "Total amount generated:  13500\n"
     ]
    }
   ],
   "source": [
    "class_a = int(input('How many class A tickets are sold: '))\n",
    "class_b = int(input('How many class B tickets are sold: '))\n",
    "class_c = int(input('How many class C tickets are sold: '))\n",
    "\n",
    "class_a_amount = class_a * 2000\n",
    "class_b_amount = class_b * 1500\n",
    "class_c_amount = class_c * 1000\n",
    "\n",
    "print('')\n",
    "print('Class A amount generated: ', class_a_amount)\n",
    "print('Class B amount generated: ', class_b_amount)\n",
    "print('Class C amount generated: ', class_c_amount)\n",
    "\n",
    "total_amount = class_a_amount + class_b_amount + class_c_amount\n",
    "\n",
    "print('')\n",
    "print('Total amount generated: ', total_amount)"
   ]
  },
  {
   "cell_type": "markdown",
   "id": "5472bc2c",
   "metadata": {},
   "source": [
    "# 27"
   ]
  },
  {
   "cell_type": "markdown",
   "id": "8e392f10",
   "metadata": {},
   "source": [
    "create a function 'profile' with two parameters: name and age. The function should print:\n",
    "\n",
    "'Murtaza is 35 years old.' (Murtaza and 35 are arguments that we will pass when calling the function)"
   ]
  },
  {
   "cell_type": "code",
   "execution_count": 1,
   "id": "c44c3a56",
   "metadata": {},
   "outputs": [
    {
     "ename": "SyntaxError",
     "evalue": "invalid syntax (3040860088.py, line 1)",
     "output_type": "error",
     "traceback": [
      "\u001b[1;36m  File \u001b[1;32m\"C:\\Users\\dell\\AppData\\Local\\Temp\\ipykernel_2776\\3040860088.py\"\u001b[1;36m, line \u001b[1;32m1\u001b[0m\n\u001b[1;33m    def profile(--,--):\u001b[0m\n\u001b[1;37m                ^\u001b[0m\n\u001b[1;31mSyntaxError\u001b[0m\u001b[1;31m:\u001b[0m invalid syntax\n"
     ]
    }
   ],
   "source": [
    "def profile(--,--):\n",
    "    print(---)\n",
    "    \n",
    "# check the function by calling it"
   ]
  },
  {
   "cell_type": "code",
   "execution_count": 2,
   "id": "46b0c90d",
   "metadata": {},
   "outputs": [
    {
     "name": "stdout",
     "output_type": "stream",
     "text": [
      "Murtaza is 35 years old\n"
     ]
    }
   ],
   "source": [
    "def profile(name,age):\n",
    "    print(name, 'is', age, 'years old')\n",
    "    \n",
    "# check the function by calling it\n",
    "profile('Murtaza', 35)"
   ]
  },
  {
   "cell_type": "markdown",
   "id": "fcb60bb5",
   "metadata": {},
   "source": [
    "# 28"
   ]
  },
  {
   "cell_type": "markdown",
   "id": "4c62dd9e",
   "metadata": {},
   "source": [
    "Let suppose you have a particular program:"
   ]
  },
  {
   "cell_type": "code",
   "execution_count": 4,
   "id": "c0222f2f",
   "metadata": {},
   "outputs": [
    {
     "name": "stdout",
     "output_type": "stream",
     "text": [
      "Write your first name: harman\n",
      "Write your last name: waheed\n",
      "\n",
      "Thanks for your cooperation\n"
     ]
    }
   ],
   "source": [
    "a = input('Write your first name: ')\n",
    "b = input('Write your last name: ')\n",
    "\n",
    "print('\\nThanks for your cooperation')"
   ]
  },
  {
   "cell_type": "markdown",
   "id": "e8eb4ecd",
   "metadata": {},
   "source": [
    "You are writting a big program and this part of code repeat again and again. For saving time and instead of writing these three statements again and again, You can convert this into a function\n",
    "\n",
    "Define a function 'into' with no parameter. And place the upper code in body of the function. Make any changes if needed and check the program"
   ]
  },
  {
   "cell_type": "code",
   "execution_count": 5,
   "id": "2d1ef17f",
   "metadata": {},
   "outputs": [],
   "source": [
    "def intro():\n",
    "    a = input('Write your first name: ')\n",
    "    b = input('Write your last name: ')\n",
    "\n",
    "    print('\\nThanks for your cooperation')\n"
   ]
  },
  {
   "cell_type": "code",
   "execution_count": 6,
   "id": "6d5e4e1a",
   "metadata": {},
   "outputs": [
    {
     "name": "stdout",
     "output_type": "stream",
     "text": [
      "Write your first name: harman\n",
      "Write your last name: waheed\n",
      "\n",
      "Thanks for your cooperation\n"
     ]
    }
   ],
   "source": [
    "intro()"
   ]
  },
  {
   "cell_type": "markdown",
   "id": "7d4d9a26",
   "metadata": {},
   "source": [
    "# 29"
   ]
  },
  {
   "cell_type": "markdown",
   "id": "ca7d9919",
   "metadata": {},
   "source": [
    "Lets now create a calculate() function which will take two numbers as parameters. These parameters will be 'num1' and 'num2'\n",
    "\n",
    "This function will print result of addition, subtraction, division and multiplication of those two numbers\n"
   ]
  },
  {
   "cell_type": "code",
   "execution_count": 8,
   "id": "6f11484a",
   "metadata": {},
   "outputs": [
    {
     "ename": "SyntaxError",
     "evalue": "invalid syntax (2711033948.py, line 1)",
     "output_type": "error",
     "traceback": [
      "\u001b[1;36m  File \u001b[1;32m\"C:\\Users\\dell\\AppData\\Local\\Temp\\ipykernel_2776\\2711033948.py\"\u001b[1;36m, line \u001b[1;32m1\u001b[0m\n\u001b[1;33m    def calculate(--, --):\u001b[0m\n\u001b[1;37m                  ^\u001b[0m\n\u001b[1;31mSyntaxError\u001b[0m\u001b[1;31m:\u001b[0m invalid syntax\n"
     ]
    }
   ],
   "source": [
    "def calculate(--, --):\n",
    "    \n",
    "    print('Addition of given numbers:', ---)\n",
    "    print('\\nSubtraction of second number from first:', ---)\n",
    "    print('\\nMultiplication:', ---)\n",
    "    print('\\nFirst number divided by second:', ---)"
   ]
  },
  {
   "cell_type": "code",
   "execution_count": 11,
   "id": "c4380b23",
   "metadata": {},
   "outputs": [],
   "source": [
    "def calculate(num1, num2):\n",
    "    \n",
    "    print('Addition of given numbers:', num1+num2)\n",
    "    print('\\nSubtraction of second number from first:', num1-num2)\n",
    "    print('\\nMultiplication:', num1*num2)\n",
    "    print('\\nFirst number divided by second:', num1/num2)"
   ]
  },
  {
   "cell_type": "code",
   "execution_count": 12,
   "id": "c09b1d09",
   "metadata": {},
   "outputs": [
    {
     "name": "stdout",
     "output_type": "stream",
     "text": [
      "Addition of given numbers: 4\n",
      "\n",
      "Subtraction of second number from first: 0\n",
      "\n",
      "Multiplication: 4\n",
      "\n",
      "First number divided by second: 1.0\n"
     ]
    }
   ],
   "source": [
    "calculate(2,2)"
   ]
  },
  {
   "cell_type": "markdown",
   "id": "109e854b",
   "metadata": {},
   "source": [
    "# 30"
   ]
  },
  {
   "cell_type": "markdown",
   "id": "f994dff1",
   "metadata": {},
   "source": [
    "We have created a function is 0 exercise. Let say all persons are of age 40. Very few are those who are not 40 for our case.\n",
    "\n",
    "Make some changes in the function such that, it will automatically read age as 40 always when the program is called.\n",
    "\n",
    "Also when in some cases we want to change the age, our program should handle those situations by passing the age value as first argument when calling the function\n",
    "\n",
    "Hint: no hint"
   ]
  },
  {
   "cell_type": "code",
   "execution_count": 6,
   "id": "59faf9b2",
   "metadata": {},
   "outputs": [
    {
     "name": "stdout",
     "output_type": "stream",
     "text": [
      "Murtaza is 40 years old\n"
     ]
    }
   ],
   "source": [
    "def profile(name,age = 40):\n",
    "    print(name, 'is', age, 'years old')\n",
    "    \n",
    "# check the function by calling it\n",
    "profile('Murtaza')"
   ]
  },
  {
   "cell_type": "markdown",
   "id": "f0eb76fd",
   "metadata": {},
   "source": [
    "# 31"
   ]
  },
  {
   "cell_type": "code",
   "execution_count": 1,
   "id": "766f75ec",
   "metadata": {},
   "outputs": [],
   "source": [
    "def func(a, b, c, d):\n",
    "    print(a)\n",
    "    print(b)\n",
    "    print(c)\n",
    "    print(d)"
   ]
  },
  {
   "cell_type": "markdown",
   "id": "5a4d3dc8",
   "metadata": {},
   "source": [
    "Call this function in two ways:\n",
    "\n",
    "1 - give positional arguments\n",
    "\n",
    "2 - give named arguments\n",
    "\n",
    "When giving named argument also try to distort the sequence of parameters, for example give value of b first, then d, then c, then a"
   ]
  },
  {
   "cell_type": "code",
   "execution_count": 2,
   "id": "66335871",
   "metadata": {},
   "outputs": [],
   "source": [
    "# Call function again and again with different arrangements and analyze the outputs"
   ]
  },
  {
   "cell_type": "markdown",
   "id": "751443b5",
   "metadata": {},
   "source": [
    "# 32"
   ]
  },
  {
   "cell_type": "markdown",
   "id": "9b0d8fac",
   "metadata": {},
   "source": [
    "Debug the code the write a correct version below.\n",
    "\n"
   ]
  },
  {
   "cell_type": "code",
   "execution_count": 3,
   "id": "962109d8",
   "metadata": {},
   "outputs": [
    {
     "ename": "SyntaxError",
     "evalue": "invalid syntax (1605744215.py, line 1)",
     "output_type": "error",
     "traceback": [
      "\u001b[1;36m  File \u001b[1;32m\"C:\\Users\\dell\\AppData\\Local\\Temp\\ipykernel_9688\\1605744215.py\"\u001b[1;36m, line \u001b[1;32m1\u001b[0m\n\u001b[1;33m    def range(100):\u001b[0m\n\u001b[1;37m              ^\u001b[0m\n\u001b[1;31mSyntaxError\u001b[0m\u001b[1;31m:\u001b[0m invalid syntax\n"
     ]
    }
   ],
   "source": [
    "def range(100):\n",
    "    for i in range(10):\n",
    "        print()\n",
    "    \n"
   ]
  },
  {
   "cell_type": "markdown",
   "id": "a92c2c6e",
   "metadata": {},
   "source": [
    "Functionality should be: this function will print all numbers smaller than a given number (number should be parameter and later on we will assign its value when calling the function)"
   ]
  },
  {
   "cell_type": "code",
   "execution_count": 4,
   "id": "651e769e",
   "metadata": {},
   "outputs": [],
   "source": [
    "def ran(number):\n",
    "    for i in range(number):\n",
    "        print(i)"
   ]
  },
  {
   "cell_type": "code",
   "execution_count": 5,
   "id": "6e3b467b",
   "metadata": {},
   "outputs": [
    {
     "name": "stdout",
     "output_type": "stream",
     "text": [
      "0\n",
      "1\n",
      "2\n"
     ]
    }
   ],
   "source": [
    "ran(3)"
   ]
  },
  {
   "cell_type": "markdown",
   "id": "32cea15c",
   "metadata": {},
   "source": [
    "# 33 "
   ]
  },
  {
   "cell_type": "markdown",
   "id": "ef88c9db",
   "metadata": {},
   "source": [
    "When we define the parameters, predefined parameter are always placed on end\n",
    "\n",
    "Write a function 'players' with two predefined parameters and one other parameter.\n",
    "\n",
    "-----------Parameters-----------\n",
    "\n",
    "name\n",
    "\n",
    "suports = 'cricket'\n",
    "\n",
    "standard = 'great'"
   ]
  },
  {
   "cell_type": "code",
   "execution_count": null,
   "id": "2cee5f7b",
   "metadata": {},
   "outputs": [],
   "source": [
    "def ---(---,---,---):\n",
    "    print()"
   ]
  },
  {
   "cell_type": "markdown",
   "id": "74897866",
   "metadata": {},
   "source": [
    "Update the print statement such that output when calling the function should look like:\n",
    "\n",
    "Pat cummins is a great cricket player.\n",
    "\n",
    "note that 'Pat cummins', 'great', 'cricket' are passed arguments."
   ]
  },
  {
   "cell_type": "code",
   "execution_count": 7,
   "id": "089617e6",
   "metadata": {},
   "outputs": [],
   "source": [
    "def player(name, suports='cricket', standard='great'):\n",
    "    print(name, 'is a', standard, suports, 'player')"
   ]
  },
  {
   "cell_type": "code",
   "execution_count": 8,
   "id": "81c42e5c",
   "metadata": {},
   "outputs": [
    {
     "name": "stdout",
     "output_type": "stream",
     "text": [
      "Pat cummins is a great cricket player\n"
     ]
    }
   ],
   "source": [
    "player('Pat cummins')"
   ]
  },
  {
   "cell_type": "markdown",
   "id": "db2833de",
   "metadata": {},
   "source": [
    "# 34"
   ]
  },
  {
   "cell_type": "markdown",
   "id": "4e9ffc29",
   "metadata": {},
   "source": [
    "After you are done with assignment 33 function, lets call the function you created there with different techniques.\n",
    "\n",
    "Which way will you run functions when outputs should be:\n",
    "\n",
    "1 - Messi is a worst cricket player\n",
    "\n",
    "2 - Messi is a astonishing football player\n",
    "\n",
    "3 - Babar azam is a unpredictable cricket player\n",
    "\n",
    "4 - Akmal shehzad dogar is a strong kabaddi player\n",
    "\n",
    "5 - Azam khan is a active cricket player\n",
    "\n",
    "Give arguments when required. You can use named arguments as well positional arguments"
   ]
  },
  {
   "cell_type": "markdown",
   "id": "345c68cc",
   "metadata": {},
   "source": [
    "# 35"
   ]
  },
  {
   "cell_type": "markdown",
   "id": "986ce930",
   "metadata": {},
   "source": [
    "Write a function 'motivate' with only one parameter 'iter_'. We will be able to change its value but by default it should be 10\n",
    "\n",
    "What function will do: it will print 'I can do it' as many times as specified in the parameter."
   ]
  },
  {
   "cell_type": "code",
   "execution_count": 3,
   "id": "451cd539",
   "metadata": {},
   "outputs": [],
   "source": [
    "def motivate(iter_):\n",
    "    for i in range(iter_):\n",
    "        print('I can do it')"
   ]
  },
  {
   "cell_type": "code",
   "execution_count": 4,
   "id": "5f71f68e",
   "metadata": {},
   "outputs": [
    {
     "name": "stdout",
     "output_type": "stream",
     "text": [
      "I can do it\n",
      "I can do it\n",
      "I can do it\n",
      "I can do it\n",
      "I can do it\n",
      "I can do it\n",
      "I can do it\n",
      "I can do it\n",
      "I can do it\n",
      "I can do it\n"
     ]
    }
   ],
   "source": [
    "motivate(10)"
   ]
  },
  {
   "cell_type": "markdown",
   "id": "dcbdf7e5",
   "metadata": {},
   "source": [
    "# 36"
   ]
  },
  {
   "cell_type": "code",
   "execution_count": 9,
   "id": "5bcdb9a3",
   "metadata": {},
   "outputs": [
    {
     "name": "stdout",
     "output_type": "stream",
     "text": [
      "--------------\n",
      "|            |\n",
      "|            |\n",
      "|            |\n",
      "|            |\n",
      "--------------\n"
     ]
    }
   ],
   "source": [
    "print('--------------')\n",
    "print('|            |')\n",
    "print('|            |')\n",
    "print('|            |')\n",
    "print('|            |')\n",
    "print('--------------')"
   ]
  },
  {
   "cell_type": "markdown",
   "id": "fa4c5fd7",
   "metadata": {},
   "source": [
    "As shown, these statments are used to draw a square.\n",
    "\n",
    "Instead of of using these 7 lines again and again, lets create a function 'sq' which will output exactly same square when will will call that function"
   ]
  },
  {
   "cell_type": "code",
   "execution_count": 10,
   "id": "c7e542b0",
   "metadata": {},
   "outputs": [],
   "source": [
    "# your code here"
   ]
  },
  {
   "cell_type": "markdown",
   "id": "b87a802f",
   "metadata": {},
   "source": [
    "# 37"
   ]
  },
  {
   "cell_type": "markdown",
   "id": "c753f067",
   "metadata": {},
   "source": [
    "Let's create some simple functions. write a function that will take one number as parameter and print whether the number is even or odd after evaluating this through conditional statements"
   ]
  },
  {
   "cell_type": "markdown",
   "id": "52e2e742",
   "metadata": {},
   "source": [
    "# 38"
   ]
  },
  {
   "cell_type": "markdown",
   "id": "5de706c6",
   "metadata": {},
   "source": [
    "Rewrite following functions error free"
   ]
  },
  {
   "cell_type": "code",
   "execution_count": 12,
   "id": "166db5cc",
   "metadata": {},
   "outputs": [
    {
     "ename": "NameError",
     "evalue": "name 'hello' is not defined",
     "output_type": "error",
     "traceback": [
      "\u001b[1;31m---------------------------------------------------------------------------\u001b[0m",
      "\u001b[1;31mNameError\u001b[0m                                 Traceback (most recent call last)",
      "\u001b[1;32m~\\AppData\\Local\\Temp\\ipykernel_9688\\25779987.py\u001b[0m in \u001b[0;36m<module>\u001b[1;34m\u001b[0m\n\u001b[1;32m----> 1\u001b[1;33m \u001b[0mhello\u001b[0m\u001b[1;33m(\u001b[0m\u001b[1;33m)\u001b[0m\u001b[1;33m\u001b[0m\u001b[1;33m\u001b[0m\u001b[0m\n\u001b[0m\u001b[0;32m      2\u001b[0m \u001b[1;32mdef\u001b[0m \u001b[0mhello\u001b[0m\u001b[1;33m(\u001b[0m\u001b[0mname\u001b[0m\u001b[1;33m=\u001b[0m\u001b[1;34m'Ali Abbas'\u001b[0m\u001b[1;33m,\u001b[0m \u001b[0mage\u001b[0m\u001b[1;33m=\u001b[0m \u001b[1;36m40\u001b[0m\u001b[1;33m,\u001b[0m \u001b[0moccupation\u001b[0m \u001b[1;33m=\u001b[0m\u001b[1;34m'Wakeel'\u001b[0m\u001b[1;33m)\u001b[0m\u001b[1;33m:\u001b[0m\u001b[1;33m\u001b[0m\u001b[1;33m\u001b[0m\u001b[0m\n\u001b[0;32m      3\u001b[0m     \u001b[0mprint\u001b[0m\u001b[1;33m(\u001b[0m\u001b[1;34m'Ali is a 40 years old wakeel'\u001b[0m\u001b[1;33m)\u001b[0m\u001b[1;33m\u001b[0m\u001b[1;33m\u001b[0m\u001b[0m\n",
      "\u001b[1;31mNameError\u001b[0m: name 'hello' is not defined"
     ]
    }
   ],
   "source": [
    "hello()\n",
    "def hello(name='Ali Abbas', age= 40, occupation ='Wakeel'):\n",
    "    print('Ali is a 40 years old wakeel')"
   ]
  },
  {
   "cell_type": "code",
   "execution_count": 11,
   "id": "6fedc214",
   "metadata": {},
   "outputs": [
    {
     "ename": "SyntaxError",
     "evalue": "non-default argument follows default argument (341611696.py, line 1)",
     "output_type": "error",
     "traceback": [
      "\u001b[1;36m  File \u001b[1;32m\"C:\\Users\\dell\\AppData\\Local\\Temp\\ipykernel_9688\\341611696.py\"\u001b[1;36m, line \u001b[1;32m1\u001b[0m\n\u001b[1;33m    def code(age=40, name, occupation):\u001b[0m\n\u001b[1;37m                           ^\u001b[0m\n\u001b[1;31mSyntaxError\u001b[0m\u001b[1;31m:\u001b[0m non-default argument follows default argument\n"
     ]
    }
   ],
   "source": [
    "def code(age=40, name, occupation):\n",
    "    print(name, 'is a', age, 'years old', occupation)"
   ]
  },
  {
   "cell_type": "code",
   "execution_count": 15,
   "id": "2f4e4ff7",
   "metadata": {},
   "outputs": [],
   "source": [
    "def movies(name='Lord of rings', part = 3):\n",
    "    print('Movie', name, 'has' + part, 'parts')"
   ]
  },
  {
   "cell_type": "code",
   "execution_count": 16,
   "id": "61e58dea",
   "metadata": {},
   "outputs": [
    {
     "ename": "TypeError",
     "evalue": "can only concatenate str (not \"int\") to str",
     "output_type": "error",
     "traceback": [
      "\u001b[1;31m---------------------------------------------------------------------------\u001b[0m",
      "\u001b[1;31mTypeError\u001b[0m                                 Traceback (most recent call last)",
      "\u001b[1;32m~\\AppData\\Local\\Temp\\ipykernel_9688\\4142994238.py\u001b[0m in \u001b[0;36m<module>\u001b[1;34m\u001b[0m\n\u001b[1;32m----> 1\u001b[1;33m \u001b[0mmovies\u001b[0m\u001b[1;33m(\u001b[0m\u001b[1;33m)\u001b[0m\u001b[1;33m\u001b[0m\u001b[1;33m\u001b[0m\u001b[0m\n\u001b[0m",
      "\u001b[1;32m~\\AppData\\Local\\Temp\\ipykernel_9688\\1099685770.py\u001b[0m in \u001b[0;36mmovies\u001b[1;34m(name, part)\u001b[0m\n\u001b[0;32m      1\u001b[0m \u001b[1;32mdef\u001b[0m \u001b[0mmovies\u001b[0m\u001b[1;33m(\u001b[0m\u001b[0mname\u001b[0m\u001b[1;33m=\u001b[0m\u001b[1;34m'Lord of rings'\u001b[0m\u001b[1;33m,\u001b[0m \u001b[0mpart\u001b[0m \u001b[1;33m=\u001b[0m \u001b[1;36m3\u001b[0m\u001b[1;33m)\u001b[0m\u001b[1;33m:\u001b[0m\u001b[1;33m\u001b[0m\u001b[1;33m\u001b[0m\u001b[0m\n\u001b[1;32m----> 2\u001b[1;33m     \u001b[0mprint\u001b[0m\u001b[1;33m(\u001b[0m\u001b[1;34m'Movie'\u001b[0m\u001b[1;33m,\u001b[0m \u001b[0mname\u001b[0m\u001b[1;33m,\u001b[0m \u001b[1;34m'has'\u001b[0m \u001b[1;33m+\u001b[0m \u001b[0mpart\u001b[0m\u001b[1;33m,\u001b[0m \u001b[1;34m'parts'\u001b[0m\u001b[1;33m)\u001b[0m\u001b[1;33m\u001b[0m\u001b[1;33m\u001b[0m\u001b[0m\n\u001b[0m",
      "\u001b[1;31mTypeError\u001b[0m: can only concatenate str (not \"int\") to str"
     ]
    }
   ],
   "source": [
    "movies()"
   ]
  },
  {
   "cell_type": "code",
   "execution_count": 19,
   "id": "292f6c05",
   "metadata": {},
   "outputs": [
    {
     "ename": "SyntaxError",
     "evalue": "invalid syntax (126353863.py, line 1)",
     "output_type": "error",
     "traceback": [
      "\u001b[1;36m  File \u001b[1;32m\"C:\\Users\\dell\\AppData\\Local\\Temp\\ipykernel_9688\\126353863.py\"\u001b[1;36m, line \u001b[1;32m1\u001b[0m\n\u001b[1;33m    def person(address, contact, name, organization, name)\u001b[0m\n\u001b[1;37m                                                          ^\u001b[0m\n\u001b[1;31mSyntaxError\u001b[0m\u001b[1;31m:\u001b[0m invalid syntax\n"
     ]
    }
   ],
   "source": [
    "def person(address, contact, name, organization, name)\n",
    "    print('thanks for data')"
   ]
  },
  {
   "cell_type": "markdown",
   "id": "12d0bbad",
   "metadata": {},
   "source": [
    "# 39"
   ]
  },
  {
   "cell_type": "code",
   "execution_count": 1,
   "id": "54fd91cf",
   "metadata": {},
   "outputs": [
    {
     "name": "stdout",
     "output_type": "stream",
     "text": [
      "1 X 5 = 5\n",
      "3 X 7 = 21\n",
      "4 X 6 = 24\n",
      "6 X 5 = 30\n"
     ]
    }
   ],
   "source": [
    "import random\n",
    "\n",
    "for i in range(4):  \n",
    "    num1 = random.randint(1,10)\n",
    "    num2 = random.randint(1,10)\n",
    "    answer = ''\n",
    "\n",
    "    while answer != num1*num2:\n",
    "        answer = int(input(str(num1) + ' X ' + str(num2) + ' = '))"
   ]
  },
  {
   "cell_type": "markdown",
   "id": "c78e11b0",
   "metadata": {},
   "source": [
    "Remember this code? This is solution of assignment number 25. See this code and read of instructions if assignment 25. Once you get this code, \n",
    "\n",
    "Lets make a function of this code. function name: 'mul'. Parameter: num\n",
    "\n",
    "In third line the integer within range() will be replaced by num so that it will ask as many questions as you will specify while calling function. Define and call your function to see the results."
   ]
  },
  {
   "cell_type": "code",
   "execution_count": 3,
   "id": "7cdf58e6",
   "metadata": {},
   "outputs": [],
   "source": [
    "def mul(num):\n",
    "    for i in range(num):  \n",
    "        num1 = random.randint(1,10)\n",
    "        num2 = random.randint(1,10)\n",
    "        answer = ''\n",
    "\n",
    "        while answer != num1*num2:\n",
    "            answer = int(input(str(num1) + ' X ' + str(num2) + ' = '))"
   ]
  },
  {
   "cell_type": "code",
   "execution_count": 4,
   "id": "2b8ffe2d",
   "metadata": {},
   "outputs": [
    {
     "name": "stdout",
     "output_type": "stream",
     "text": [
      "6 X 6 = 36\n",
      "10 X 9 = 90\n"
     ]
    }
   ],
   "source": [
    "mul(2)"
   ]
  },
  {
   "cell_type": "markdown",
   "id": "752292cd",
   "metadata": {},
   "source": [
    "# 40"
   ]
  },
  {
   "cell_type": "markdown",
   "id": "6a04c944",
   "metadata": {},
   "source": [
    "Write a simple function that will take one number as parameter and print its multiples from 1 to 10 in logical way.\n",
    "\n",
    "For example if you give number 9, output should looks like:\n",
    "\n",
    "9 X 1 = 9\n",
    "\n",
    "9 X 2 = 18\n",
    "\n",
    "9 X 3 = 27\n",
    "\n",
    ".\n",
    "\n",
    ".\n",
    "\n",
    ".\n",
    "\n",
    "9 X 10 = 90"
   ]
  },
  {
   "cell_type": "markdown",
   "id": "08364073",
   "metadata": {},
   "source": [
    "# 41"
   ]
  },
  {
   "cell_type": "markdown",
   "id": "53b94aea",
   "metadata": {},
   "source": [
    "Lets write a menu for school system. Functionality of our program will be: \n",
    "\n",
    "\n",
    "\n",
    "- Admit students in school\n",
    "\n",
    "- Remove students from school\n",
    "\n",
    "- View all students of school\n",
    "\n",
    "\n",
    "\n",
    "\n",
    "\n",
    "\n",
    "\n",
    "Furthermore here are some instructions for this project:\n",
    "\n",
    "- Use list to store data (student names).\n",
    "\n",
    "\n",
    "\n",
    "- For task 1 use list built-in method to add student in list\n",
    "\n",
    "\n",
    "\n",
    "- For task  2 use conditional statement to check whether the student is present in school or not. Remove student in he is in school by using list built-in method 'remove()'\n",
    "\n",
    "\n",
    "\n",
    "- For task 3 use for loop and iterate over the list to to display all students\n",
    "\n",
    "\n",
    "\n",
    "- For implementation of last point, you need to run program again and again unless user decide to exit. For that enclose whole program in while loop such that it should run again and again. Use conditional statement to check whether user want to exit, then you may use break statement to stop while loop."
   ]
  },
  {
   "cell_type": "code",
   "execution_count": 1,
   "id": "80ac1e4f",
   "metadata": {},
   "outputs": [],
   "source": [
    "list_ = []\n",
    "\n",
    "\n",
    "def schoolmenu():\n",
    "    \n",
    "    while True:\n",
    "        \n",
    "        print('=============================Menu===========================')\n",
    "        print('1 - Addmission of student in school')\n",
    "        print('2 - Struck student from school')\n",
    "        print('3 - View all students of school')\n",
    "        print('4 - Quit from menu\\n')\n",
    "        \n",
    "        choice = input('Enter your choice: ')\n",
    "        \n",
    "\n",
    "        if choice == '1':\n",
    "            \n",
    "            print('\\n-----Add student-----\\n')\n",
    "            \n",
    "            name = input('Enter student name: ')\n",
    "            \n",
    "            list_.append(name)\n",
    "            \n",
    "            print('\\nStudent Added!\\n')\n",
    "\n",
    "    \n",
    "        elif choice == '2':\n",
    "            \n",
    "            print('\\n-----Remove student-----\\n')\n",
    "            \n",
    "            name = input('Enter name of student')\n",
    "\n",
    "            if name not in list_:\n",
    "                print('No student found')\n",
    "            \n",
    "            else:\n",
    "                list_.remove(name)\n",
    "                \n",
    "                print('\\nStudent removed!')\n",
    "\n",
    "        elif choice == '3':\n",
    "            \n",
    "            print('\\n----------Students in school---------')\n",
    "            \n",
    "            for i in list_:\n",
    "                print(i)\n",
    "                \n",
    "        elif choice == '4':\n",
    "            \n",
    "            print('=================Good bye===============')\n",
    "            break"
   ]
  },
  {
   "cell_type": "code",
   "execution_count": 2,
   "id": "67b19b95",
   "metadata": {
    "scrolled": false
   },
   "outputs": [
    {
     "name": "stdout",
     "output_type": "stream",
     "text": [
      "=============================Menu===========================\n",
      "1 - Addmission of student in school\n",
      "2 - Struck student from school\n",
      "3 - View all students of school\n",
      "4 - Quit from menu\n",
      "\n",
      "Enter your choice: 1\n",
      "\n",
      "-----Add student-----\n",
      "\n",
      "Enter student name: Sharmeen\n",
      "\n",
      "Student Added!\n",
      "\n",
      "=============================Menu===========================\n",
      "1 - Addmission of student in school\n",
      "2 - Struck student from school\n",
      "3 - View all students of school\n",
      "4 - Quit from menu\n",
      "\n",
      "Enter your choice: 3\n",
      "\n",
      "----------Students in school---------\n",
      "Sharmeen\n",
      "=============================Menu===========================\n",
      "1 - Addmission of student in school\n",
      "2 - Struck student from school\n",
      "3 - View all students of school\n",
      "4 - Quit from menu\n",
      "\n",
      "Enter your choice: 2\n",
      "\n",
      "-----Remove student-----\n",
      "\n",
      "Enter name of studentharman\n",
      "No student found\n",
      "=============================Menu===========================\n",
      "1 - Addmission of student in school\n",
      "2 - Struck student from school\n",
      "3 - View all students of school\n",
      "4 - Quit from menu\n",
      "\n",
      "Enter your choice: 2\n",
      "\n",
      "-----Remove student-----\n",
      "\n",
      "Enter name of studentSharmeen\n",
      "\n",
      "Student removed!\n",
      "=============================Menu===========================\n",
      "1 - Addmission of student in school\n",
      "2 - Struck student from school\n",
      "3 - View all students of school\n",
      "4 - Quit from menu\n",
      "\n",
      "Enter your choice: 4\n",
      "=================Good bye===============\n"
     ]
    }
   ],
   "source": [
    "schoolmenu()"
   ]
  },
  {
   "cell_type": "markdown",
   "id": "4a1acbcc",
   "metadata": {},
   "source": [
    "# 42 "
   ]
  },
  {
   "cell_type": "markdown",
   "id": "2abb00ff",
   "metadata": {},
   "source": [
    "Let's write a program for hospital. It will be a simple python program to handle number of patients and there data.\n",
    "\n",
    "Our purpose is to\n",
    "\n",
    "- hold data of patients. We will store name and age of each of patient.\n",
    "\n",
    "- our hospital can only accommodate 40 patients. So if patients are more than 40, we will indicate that we cannot accommodate this much patients.\n",
    "\n",
    "- Our hospital do not provide services to old age persons. If there is any patient more than 60 years old, we will not add him in hospital data.\n",
    "\n",
    "Instructions:\n",
    "\n",
    "- Take input from user about number of patients, then iterate for loop as many times as there are patients. Each time For loop run, store data of patient name and age in a list and then append that list in a major list that will at the end contain data of all the patients.\n",
    "\n",
    "- Use conditional structure to check if age is greater than 60. If it is greater, we won't admit that patient in hospital. It means we will not store data of the patient.\n",
    "\n",
    "- Now print how many more patients we can accommodate in our hospital.\n",
    "\n",
    "In case user input number of patients as more than 40, you will have to indicate that we cannot accommodate this number, and program should stop further execution."
   ]
  },
  {
   "cell_type": "code",
   "execution_count": 5,
   "id": "1a03d345",
   "metadata": {},
   "outputs": [],
   "source": [
    "def a():\n",
    "    \n",
    "    a = int(input('How many patients in hospital: '))\n",
    "    \n",
    "    if a > 40:\n",
    "        print('WARNING: we can only accomodate 40 patients')\n",
    "        return\n",
    "    \n",
    "    wh = []\n",
    "    \n",
    "    for i in range(a):\n",
    "        \n",
    "        data = []\n",
    "        name = input('\\nEnter ' + str(i+1) + ' patient name: ')\n",
    "        age = int(input('Enter '+ str(i+1) + ' patient age: '))\n",
    "        \n",
    "        if age > 60:\n",
    "            print(\"\\nPatients above 60 aren't provided service in our hospital\\n\\n\")\n",
    "        else:\n",
    "            data.append(age)        \n",
    "            data.append(name)\n",
    "            wh.append(data)\n",
    "    \n",
    "    print('=====================Thanks for prividing this data==============================')\n",
    "    \n",
    "    print('\\nTotal patients: ', len(wh))\n",
    "    print('Occomodation available: 40')\n",
    "    \n",
    "    if len(wh) > 40:\n",
    "        print('We cannot accomodate more patients')\n",
    "    else:\n",
    "        print('We can accomodate', 40 - len(wh), 'patients.')\n",
    "    \n",
    "    "
   ]
  },
  {
   "cell_type": "code",
   "execution_count": 9,
   "id": "067a9693",
   "metadata": {},
   "outputs": [
    {
     "name": "stdout",
     "output_type": "stream",
     "text": [
      "How many patients in hospital: 3\n",
      "\n",
      "Enter 1 patient name: Ali\n",
      "Enter 1 patient age: 59\n",
      "\n",
      "Enter 2 patient name: ahmad\n",
      "Enter 2 patient age: 71\n",
      "\n",
      "Patients above 60 aren't provided service in our hospital\n",
      "\n",
      "\n",
      "\n",
      "Enter 3 patient name: Huzaifa\n",
      "Enter 3 patient age: 65\n",
      "\n",
      "Patients above 60 aren't provided service in our hospital\n",
      "\n",
      "\n",
      "=====================Thanks for prividing this data==============================\n",
      "\n",
      "Total patients:  1\n",
      "Occomodation available: 40\n",
      "We can accomodate 39 patients.\n"
     ]
    }
   ],
   "source": [
    "a()"
   ]
  },
  {
   "cell_type": "markdown",
   "id": "505d1b16",
   "metadata": {},
   "source": [
    "# 43"
   ]
  },
  {
   "cell_type": "markdown",
   "id": "e8f49821",
   "metadata": {},
   "source": [
    "An organization need you to calculates weekly employee payroll for all employees. \n",
    "\n",
    "For each employee, ask the user for the employee ID number, the hourly wage rate, and the number of hours worked during a week. \n",
    "\n",
    "Each employee is paid 1.5 times their regular hourly rate for all hours over 40. A tax amount of 3.625 percent of salary is deducted.\n",
    "\n",
    "At the end print total salary of all employees and number of employees.\n",
    "\n",
    "INSTRUCTIONS:\n",
    "\n",
    "- Create two variables with value 0 to store total salary and total number of employees so that we can print that data at the end\n",
    "\n",
    "- Initialize a while loop, take ID, hourly_wage, hours_worked as inputs and do all the computations to calculate net salary of that employee. This while loop should stop running when user enter 0 as employee id\n",
    "\n",
    "- Also write code to add salary of employee and employee number in  two variable that we created in the first step.\n",
    "\n",
    "- Once we are out of while loop, program should indicate total salary of all employee and total number of employee."
   ]
  },
  {
   "cell_type": "code",
   "execution_count": 1,
   "id": "f9ac70a6",
   "metadata": {},
   "outputs": [],
   "source": [
    "def employee_payroll():\n",
    "    total_wages = 0.0\n",
    "    total_employees = 0\n",
    "\n",
    "    while True:\n",
    "        employee_id = int(input(\"\\n\\nEnter employee ID number (0 to end): \"))\n",
    "        if employee_id == 0:\n",
    "            break\n",
    "\n",
    "        hourly_wage = float(input(\"Enter hourly wage rate: \"))\n",
    "        hours_worked = float(input(\"Enter number of hours worked: \"))\n",
    "\n",
    "        # Calculate regular pay\n",
    "        regular_pay = hourly_wage * min(hours_worked, 40)\n",
    "\n",
    "        # Calculate overtime pay\n",
    "        if hours_worked > 40:\n",
    "            overtime_hours = hours_worked - 40\n",
    "            overtime_pay = 1.5 * hourly_wage * overtime_hours\n",
    "        else:\n",
    "            overtime_pay = 0\n",
    "\n",
    "        gross_salary = regular_pay + overtime_pay\n",
    "        \n",
    "        tax_deduction = gross_salary * 0.03625\n",
    "        \n",
    "        net_salary = gross_salary - tax_deduction\n",
    "        \n",
    "        print('Net payment for employee ' + str(employee_id) + ': $' + str(net_salary))\n",
    "\n",
    "        total_wages += net_salary\n",
    "        total_employees += 1\n",
    "\n",
    "    if total_employees == 0:\n",
    "        return 0, 0\n",
    "    else:\n",
    "        average_wages = total_wages / total_employees\n",
    "        return total_wages, average_wages\n"
   ]
  },
  {
   "cell_type": "markdown",
   "id": "5916048b",
   "metadata": {},
   "source": [
    "# 44\n",
    "\n",
    "Let's write something functional for someone's budget plan\n",
    "\n",
    "Its functionality should be:\n",
    "\n",
    "- ask user for his expenses continuously unless user enters 0\n",
    "\n",
    "- print total expenses \n",
    "\n",
    "- print whether the person is in Surplus, Deficit, or Balanced.\n",
    "\n",
    "Surplus: if monthly income is more than expenses\n",
    "\n",
    "Deficit: if monthly income is less than expenses\n",
    "\n",
    "Balanced: if monthly income is equal to expenses\n",
    "\n",
    "\n",
    "- How will you know the monthly income of person?\n",
    "\n",
    "### Instructions\n",
    "\n",
    "- Create a function 'budget' with a parameter 'available' such that parameter will indicate the total budget of a month.\n",
    "\n",
    "- Write your all code in function and test that.\n",
    "\n",
    "- At the end it should print: total monthly budget, ramaining balance, status of person (surplus, deficit, or balanced)"
   ]
  },
  {
   "cell_type": "code",
   "execution_count": 11,
   "id": "804462d5",
   "metadata": {},
   "outputs": [],
   "source": [
    "def budget(available):\n",
    "    expen = []\n",
    "    a = int(input('Enter an expense (0 to quit): '))\n",
    "    expen.append(a)\n",
    "    \n",
    "    while a != 0:\n",
    "        a = int(input('Enter another expense (0 to quit): '))\n",
    "        \n",
    "        expen.append(a)\n",
    "        \n",
    "    \n",
    "    total = sum(expen)\n",
    "    print('\\n\\nTotal expense:', total)\n",
    "    \n",
    "    rem = available - total\n",
    "    print('Remaining amount:', rem)\n",
    "    \n",
    "    if rem > 0:\n",
    "        print('Status: Surplus')\n",
    "    elif rem < 0:\n",
    "        print('Status: Deficit')\n",
    "    else:\n",
    "        print('Status: Balanced')\n",
    "    "
   ]
  },
  {
   "cell_type": "code",
   "execution_count": 13,
   "id": "985a5014",
   "metadata": {},
   "outputs": [
    {
     "name": "stdout",
     "output_type": "stream",
     "text": [
      "Enter an expense (0 to quit): 500\n",
      "Enter another expense (0 to quit): 200\n",
      "Enter another expense (0 to quit): 700\n",
      "Enter another expense (0 to quit): 0\n",
      "\n",
      "\n",
      "Total expense: 1400\n",
      "Remaining amount: -400\n",
      "Status: Deficit\n"
     ]
    }
   ],
   "source": [
    "budget(1000)"
   ]
  },
  {
   "cell_type": "markdown",
   "id": "22903436",
   "metadata": {},
   "source": [
    "# 45 "
   ]
  },
  {
   "cell_type": "markdown",
   "id": "46ba1c04",
   "metadata": {},
   "source": [
    "Creating a menu functional menu for restaurant will be a good practice for your logics now, \n",
    "\n",
    "This exercise will only include function and conditional statement. \n",
    "\n",
    "Here is some part of code:\n",
    "\n",
    "\n",
    "#### def res_menu():\n",
    "####     print('=================MENU===============')\n",
    "    \n",
    "####     print('1 - Burger beef - 600')\n",
    "####     print('2 - Tortilla Wraps - 800')\n",
    "####     print('3 - Chai Paratha - 200')\n",
    "####     print('4 - Chai - 150')\n",
    "####     print('5 - Shake (Mango, banana, date, chiku) - 600')\n",
    "    \n",
    "####    menu = [600, 800, 200, 150, 600]\n",
    "####    choice = int(input('\\n\\nEnter your option: '))\n",
    "\n",
    "\n",
    "---\n",
    "\n",
    "You will continue making this menu to meet these requirements:\n",
    "\n",
    "- In the last line of upper code, user will enter his choice about what he want to order from the menu, extract prize of that item from the list menu using list indexing.\n",
    "\n",
    "- Ask user for quantity of item he want to order and then print out total bill\n",
    "\n",
    "Once done run your code and analyze the outputs.\n",
    "\n",
    "\n",
    "### After you are done with this, follow these statements\n",
    "  \n",
    "As you see in the menu 5th option, there are shake of different flavors. Lets make refine our code such that if user want to order the shakes, we will ask him to enter the flavor as well. \n",
    "\n",
    "This will not change the bill for user but this will make our menu more logical and detailed. You can use conditional statements for this implementation."
   ]
  },
  {
   "cell_type": "code",
   "execution_count": 1,
   "id": "45d1203d",
   "metadata": {},
   "outputs": [],
   "source": [
    "def res_menu():\n",
    "    print('=================MENU===============')\n",
    "    \n",
    "    print('1 - Burger beef - 600')\n",
    "    print('2 - Tortilla Wraps - 800')\n",
    "    print('3 - Chai Paratha - 200')\n",
    "    print('4 - Chai - 150')\n",
    "    print('5 - Shake (Mango, banana, date, chiku) - 600')\n",
    "    \n",
    "    men = [600, 800, 200, 150, 600]\n",
    "    \n",
    "    choice = int(input('\\n\\nEnter your option: '))\n",
    "    \n",
    "    prize = men[choice - 1]\n",
    "    \n",
    "\n",
    "    \n",
    "    if choice == 5:\n",
    "        print('\\n\\n1 - Mango')\n",
    "        print('2 - Banana')\n",
    "        print('3 - Date')\n",
    "        print('4 - chiku')\n",
    "        print('5 - Icecream (chocolate)')\n",
    "        \n",
    "        falvour = input('\\nEnter you choice of flavor of shake: ')\n",
    "        \n",
    "    quan = int(input('Enter quantity: '))\n",
    "    \n",
    "    total = prize * quan\n",
    "    \n",
    "    print('\\n------ Your Total:', total, '-------')"
   ]
  },
  {
   "cell_type": "code",
   "execution_count": 4,
   "id": "900a5b6d",
   "metadata": {},
   "outputs": [
    {
     "name": "stdout",
     "output_type": "stream",
     "text": [
      "=================MENU===============\n",
      "1 - Burger beef - 600\n",
      "2 - Tortilla Wraps - 800\n",
      "3 - Chai Paratha - 200\n",
      "4 - Chai - 150\n",
      "5 - Shake (Mango, banana, date, chiku) - 600\n",
      "\n",
      "\n",
      "Enter your option: 5\n",
      "\n",
      "\n",
      "1 - Mango\n",
      "2 - Banana\n",
      "3 - Date\n",
      "4 - chiku\n",
      "5 - Icecream (chocolate)\n",
      "\n",
      "Enter you choice of flavor of shake: 5\n",
      "Enter quantity: 2\n",
      "\n",
      "------ Your Total: 1200 -------\n"
     ]
    }
   ],
   "source": [
    "res_menu()"
   ]
  },
  {
   "cell_type": "markdown",
   "id": "7092f235",
   "metadata": {},
   "source": [
    "# 46"
   ]
  },
  {
   "cell_type": "markdown",
   "id": "d05d19e3",
   "metadata": {},
   "source": [
    "Let us refine the code of previous assignment (45)\n",
    "\n",
    "Previously we were taking only one item in order, but customer may want to make his order of more than one item. For example he may want to order shakes as well chai paratha and maybe more.\n",
    "\n",
    "\n",
    "Do something such that program will take order from user again and again until user press zero to stop the order. Then represent total bill."
   ]
  },
  {
   "cell_type": "code",
   "execution_count": 27,
   "id": "2b6ba74f",
   "metadata": {},
   "outputs": [],
   "source": [
    "def res_menu():\n",
    "    overall_prize = 0\n",
    "    \n",
    "    while True:\n",
    "        print('=================MENU===============')\n",
    "\n",
    "        print('1 - Burger beef - 600')\n",
    "        print('2 - Tortilla Wraps - 800')\n",
    "        print('3 - Chai Paratha - 200')\n",
    "        print('4 - Chai - 150')\n",
    "        print('5 - Shake (Mango, banana, date, chiku) - 600')\n",
    "\n",
    "        men = [600, 800, 200, 150, 600]\n",
    "\n",
    "        choice = int(input('\\n\\nEnter your option, enter 0 to stop order: '))\n",
    "        \n",
    "        if choice == 0:\n",
    "            break\n",
    "\n",
    "        prize = men[choice - 1]\n",
    "\n",
    "\n",
    "\n",
    "        if choice == 5:\n",
    "            print('\\n\\n1 - Mango')\n",
    "            print('2 - Banana')\n",
    "            print('3 - Date')\n",
    "            print('4 - chiku')\n",
    "            print('5 - Icecream (chocolate)')\n",
    "\n",
    "            falvour = input('\\nEnter you choice of flavor of shake: ')\n",
    "\n",
    "        quan = int(input('Enter quantity: '))\n",
    "        \n",
    "        print('\\nDONE\\n\\n')\n",
    "\n",
    "        total = prize * quan\n",
    "        \n",
    "        overall_prize += total\n",
    "    \n",
    "    print('\\n------ Your Total will be:', overall_prize, '-------')"
   ]
  },
  {
   "cell_type": "code",
   "execution_count": 28,
   "id": "23998101",
   "metadata": {},
   "outputs": [
    {
     "name": "stdout",
     "output_type": "stream",
     "text": [
      "=================MENU===============\n",
      "1 - Burger beef - 600\n",
      "2 - Tortilla Wraps - 800\n",
      "3 - Chai Paratha - 200\n",
      "4 - Chai - 150\n",
      "5 - Shake (Mango, banana, date, chiku) - 600\n",
      "\n",
      "\n",
      "Enter your option, enter 0 to stop order: 3\n",
      "Enter quantity: 3\n",
      "\n",
      "DONE\n",
      "\n",
      "\n",
      "=================MENU===============\n",
      "1 - Burger beef - 600\n",
      "2 - Tortilla Wraps - 800\n",
      "3 - Chai Paratha - 200\n",
      "4 - Chai - 150\n",
      "5 - Shake (Mango, banana, date, chiku) - 600\n",
      "\n",
      "\n",
      "Enter your option, enter 0 to stop order: 1\n",
      "Enter quantity: 2\n",
      "\n",
      "DONE\n",
      "\n",
      "\n",
      "=================MENU===============\n",
      "1 - Burger beef - 600\n",
      "2 - Tortilla Wraps - 800\n",
      "3 - Chai Paratha - 200\n",
      "4 - Chai - 150\n",
      "5 - Shake (Mango, banana, date, chiku) - 600\n",
      "\n",
      "\n",
      "Enter your option, enter 0 to stop order: 0\n",
      "\n",
      "------ Your Total will be: 1800 -------\n"
     ]
    }
   ],
   "source": [
    "res_menu()"
   ]
  },
  {
   "cell_type": "markdown",
   "id": "69b0e5a3",
   "metadata": {},
   "source": [
    "# 47 "
   ]
  },
  {
   "cell_type": "markdown",
   "id": "e5accc84",
   "metadata": {},
   "source": [
    "Money balance for meals\n",
    "\n",
    "write a function that asks a user the costs of breakfast, lunch, and supper. Print total cost of that day after these inputs. \n",
    "\n",
    "After entering data for each day asks the user whether they want to enter data for another day.\n",
    "\n",
    "At the end:\n",
    "\n",
    "Print cost of all the breakfast, all the lunch, and all the supper seperately. Also print Total cost of all meals"
   ]
  },
  {
   "cell_type": "code",
   "execution_count": 3,
   "id": "965ef726",
   "metadata": {},
   "outputs": [
    {
     "name": "stdout",
     "output_type": "stream",
     "text": [
      "\n",
      "Enter the cost of breakfast for the day: 43\n",
      "Enter the cost of lunch for the day: 56\n",
      "Enter the cost of supper for the day: 43\n",
      "Your total for the day was 142.0\n",
      "\n",
      "Do you want to enter data for another day? (yes/no): yes\n",
      "\n",
      "Enter the cost of breakfast for the day: 34\n",
      "Enter the cost of lunch for the day: 67\n",
      "Enter the cost of supper for the day: 43\n",
      "Your total for the day was 144.0\n",
      "\n",
      "Do you want to enter data for another day? (yes/no): no\n",
      "=========================\n",
      "\n",
      "Breakfast: 77.0\n",
      "Lunch: 123.0\n",
      "Suppers: 86.0\n",
      "\n",
      "All meal cost: 286.0\n"
     ]
    }
   ],
   "source": [
    "def meal_costs():\n",
    "    \n",
    "    b_total = 0.0\n",
    "    l_total = 0.0\n",
    "    s_total = 0.0\n",
    "    a_total = 0.0\n",
    "\n",
    "    while True:\n",
    "        # Ask for meal costs for the day\n",
    "        b_cost = float(input(\"\\nEnter the cost of breakfast for the day: \"))\n",
    "        l_cost = float(input(\"Enter the cost of lunch for the day: \"))\n",
    "        s_cost = float(input(\"Enter the cost of supper for the day: \"))\n",
    "        \n",
    "        print('Your total for the day was ' + str(b_cost + l_cost + s_cost))\n",
    "\n",
    "        b_total += b_cost\n",
    "        l_total += l_cost\n",
    "        s_total += s_cost\n",
    "        \n",
    "        a_total += b_cost + l_cost + s_cost\n",
    "\n",
    "        # Ask if the user wants to enter data for another day\n",
    "        another_day = input(\"\\nDo you want to enter data for another day? (yes/no): \").lower()\n",
    "        if another_day != 'yes':\n",
    "            break\n",
    "\n",
    "            \n",
    "    print('=========================')\n",
    "    print('')\n",
    "    print('Breakfast:', b_total)\n",
    "    print('Lunch:', l_total)\n",
    "    print('Suppers:', s_total)\n",
    "    \n",
    "    print()\n",
    "    print('All meal cost:', a_total)\n",
    "\n",
    "# Example usage:\n",
    "meal_costs()\n",
    "\n"
   ]
  },
  {
   "cell_type": "markdown",
   "id": "9064e7d9",
   "metadata": {},
   "source": [
    "# 48 "
   ]
  },
  {
   "cell_type": "markdown",
   "id": "970a9699",
   "metadata": {},
   "source": [
    "Let's plot some graphs. But we didn't covered graphs yet..No worries we will use the logics that we already know to make some graphs. \n",
    "\n",
    "#### Our task is to\n",
    "visualize sales in a market through '*'\n",
    "\n",
    "#### How\n",
    "- Let suppose you own 5 shops in a market. Write a program such that user will input sales of those 5 shops of 1 day. You can do this manually but for the sake of practice, use for loop. Store all sales in some variable.\n",
    "\n",
    "\n",
    "\n",
    "- If sale of a shop is 2500, there will be 25 '**' in the graph. If there will be sale of 800, there will be 8 '*' in the graph.\n",
    "\n",
    "### This is how output should look like\n",
    "\n",
    "\n",
    "Enter today's sales for store 1: 1000 [Enter]\n",
    "\n",
    "Enter today's sales for store 2: 1200 [Enter]\n",
    "\n",
    "Enter today's sales for store 3: 1800 [Enter]\n",
    "\n",
    "Enter today's sales for store 4: 800 [Enter]\n",
    "\n",
    "Enter today's sales for store 5: 1900 [Enter]\n",
    "\n",
    "SALES BAR CHART\n",
    "\n",
    "Store 1: **********  (10 sterics)\n",
    "\n",
    "Store 2: ************  (12 sterics)\n",
    "\n",
    "Store 3: ******************  (18 sterics)\n",
    "\n",
    "Store 4: ********   (8 sterics)\n",
    "\n",
    "Store 5: *******************  (19 sterics)\n",
    "\n",
    "\n",
    "\n",
    "- If there are 400 worth sales, you can calculate number of '*' by dividing it by 100 -> 400 / 100 = 4\n",
    "\n",
    "- Then you will be able print 4 'sterics\" (for this case) by using: 'steric' * 4\n",
    "\n",
    "- Store data in proper variable. \n",
    "\n",
    "- You will be able to generate these results without using loop structures and that will be fine as well. "
   ]
  },
  {
   "cell_type": "code",
   "execution_count": 17,
   "id": "e1bd6118",
   "metadata": {},
   "outputs": [],
   "source": [
    "def ch():\n",
    "    \n",
    "    li = []\n",
    "    for i in range(5):\n",
    "        \n",
    "        a = int(input(\"Enter today's sales for store \" + str(i+1) + \": \"))\n",
    "        li.append(a)\n",
    "    \n",
    "    j = 1\n",
    "    \n",
    "    print('\\n\\n===============SALES BAR CHART===============')\n",
    "    while j <=5:\n",
    "        \n",
    "        sale_c = int(li[j-1] / 100)\n",
    "        print(\"Sales for store\", j, \":\", '*' * int(sale_c))\n",
    "        \n",
    "        j += 1\n",
    "    "
   ]
  },
  {
   "cell_type": "code",
   "execution_count": 18,
   "id": "d227d71f",
   "metadata": {},
   "outputs": [
    {
     "name": "stdout",
     "output_type": "stream",
     "text": [
      "Enter today's sales for store 1: 200\n",
      "Enter today's sales for store 2: 200\n",
      "Enter today's sales for store 3: 200\n",
      "Enter today's sales for store 4: 200\n",
      "Enter today's sales for store 5: 200\n",
      "\n",
      "\n",
      "===============SALES BAR CHART===============\n",
      "Sales for store 1 : **\n",
      "Sales for store 2 : **\n",
      "Sales for store 3 : **\n",
      "Sales for store 4 : **\n",
      "Sales for store 5 : **\n"
     ]
    }
   ],
   "source": [
    "ch()"
   ]
  },
  {
   "cell_type": "markdown",
   "id": "aa3feccd",
   "metadata": {},
   "source": [
    "# 49"
   ]
  },
  {
   "cell_type": "markdown",
   "id": "cb8557fc",
   "metadata": {},
   "source": [
    "In this assignment, we will write a program that will take a list of marks of students in accordance with there roll numbers\n",
    "\n",
    "#### [23, 43] this will indicate that roll number 1 marks are 23 and roll number 2 marks are 43\n",
    "\n",
    "\n",
    "\n",
    "Marks are out of 50. You will have to make bar charts for each student in list.\n",
    "\n",
    "- First print all marks of students with roll number using a for loop.\n",
    "\n",
    "- After that print bar chart of student marks."
   ]
  },
  {
   "cell_type": "code",
   "execution_count": 13,
   "id": "dbad55e7",
   "metadata": {},
   "outputs": [],
   "source": [
    "def st(li):\n",
    "    a = 1\n",
    "    for i in li:\n",
    "        print('Roll number', a, 'marks:', i)\n",
    "        \n",
    "        a += 1\n",
    "    print('\\n\\n=====================BAR CHART======================\\n')\n",
    "    b = 1\n",
    "    for i in li:\n",
    "        print('Roll number', b, 'marks:', i * '*')\n",
    "        b += 1"
   ]
  },
  {
   "cell_type": "code",
   "execution_count": 16,
   "id": "a3b3c548",
   "metadata": {},
   "outputs": [
    {
     "name": "stdout",
     "output_type": "stream",
     "text": [
      "Roll number 1 marks: 46\n",
      "Roll number 2 marks: 25\n",
      "Roll number 3 marks: 37\n",
      "Roll number 4 marks: 49\n",
      "Roll number 5 marks: 12\n",
      "Roll number 6 marks: 31\n",
      "Roll number 7 marks: 23\n",
      "\n",
      "\n",
      "=====================BAR CHART======================\n",
      "\n",
      "Roll number 1 marks: **********************************************\n",
      "Roll number 2 marks: *************************\n",
      "Roll number 3 marks: *************************************\n",
      "Roll number 4 marks: *************************************************\n",
      "Roll number 5 marks: ************\n",
      "Roll number 6 marks: *******************************\n",
      "Roll number 7 marks: ***********************\n"
     ]
    }
   ],
   "source": [
    "st([46, 25, 37, 49, 12, 31, 23])"
   ]
  },
  {
   "cell_type": "markdown",
   "id": "110d016f",
   "metadata": {},
   "source": [
    "# 50"
   ]
  },
  {
   "cell_type": "markdown",
   "id": "8ca7999b",
   "metadata": {},
   "source": [
    "Write a program that lets the user play the game of Rock, Paper, Scissors against the\n",
    "computer. The program should work as follows.\n",
    "\n",
    "\n",
    "1. When the program begins, create a list ['rock', 'paper', 'scissor'] and let the computer select one of these randomly.\n",
    "\n",
    "2. The user enters his or her choice of “rock”, “paper”, or “scissors” at the keyboard. (You can use a menu if you prefer.)\n",
    "\n",
    "3. The computer’s choice is displayed. \n",
    "\n",
    "4. A winner is selected according to the following rules:\n",
    "\n",
    "• If one player chooses rock and the other player chooses scissors, then rock\n",
    "wins.\n",
    "\n",
    "\n",
    "• If one player chooses scissors and the other player chooses paper, then scissors wins. \n",
    "\n",
    "\n",
    "• If one player chooses paper and the other player chooses rock, then paper\n",
    "wins. \n",
    "\n",
    "• If both players make the same choice, it is a tie\n",
    "\n",
    "Use as many conditional statements as you want."
   ]
  },
  {
   "cell_type": "code",
   "execution_count": 19,
   "id": "8fdad767",
   "metadata": {},
   "outputs": [],
   "source": [
    "def rps():\n",
    "    import random\n",
    "    chi = random.choice(['rock', 'paper', 'scissor'])\n",
    "    \n",
    "    user = input('You choice: ')\n",
    "    \n",
    "    print(chi)\n",
    "    print(user)"
   ]
  },
  {
   "cell_type": "code",
   "execution_count": 20,
   "id": "8066e638",
   "metadata": {},
   "outputs": [
    {
     "name": "stdout",
     "output_type": "stream",
     "text": [
      "You choice: rock\n",
      "paper\n",
      "rock\n"
     ]
    }
   ],
   "source": [
    "rps()"
   ]
  },
  {
   "cell_type": "code",
   "execution_count": null,
   "id": "6f6c1d9f",
   "metadata": {},
   "outputs": [],
   "source": []
  }
 ],
 "metadata": {
  "kernelspec": {
   "display_name": "Python 3 (ipykernel)",
   "language": "python",
   "name": "python3"
  },
  "language_info": {
   "codemirror_mode": {
    "name": "ipython",
    "version": 3
   },
   "file_extension": ".py",
   "mimetype": "text/x-python",
   "name": "python",
   "nbconvert_exporter": "python",
   "pygments_lexer": "ipython3",
   "version": "3.9.13"
  }
 },
 "nbformat": 4,
 "nbformat_minor": 5
}
